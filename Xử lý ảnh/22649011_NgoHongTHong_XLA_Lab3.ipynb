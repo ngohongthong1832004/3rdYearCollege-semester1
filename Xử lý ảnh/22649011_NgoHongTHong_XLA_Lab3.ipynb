{
 "cells": [
  {
   "cell_type": "markdown",
   "metadata": {},
   "source": [
    "Ngô Hồng Thông "
   ]
  },
  {
   "cell_type": "code",
   "execution_count": 2,
   "metadata": {},
   "outputs": [],
   "source": [
    "import numpy as np"
   ]
  },
  {
   "cell_type": "code",
   "execution_count": 3,
   "metadata": {},
   "outputs": [
    {
     "data": {
      "text/plain": [
       "array([1, 2, 3])"
      ]
     },
     "execution_count": 3,
     "metadata": {},
     "output_type": "execute_result"
    }
   ],
   "source": [
    "# Create a 1D NumPy array\n",
    "list_of_values = [1, 2, 3]\n",
    "x = np.array(list_of_values)\n",
    "x"
   ]
  },
  {
   "cell_type": "code",
   "execution_count": 4,
   "metadata": {},
   "outputs": [
    {
     "data": {
      "text/plain": [
       "array([[[4],\n",
       "        [5],\n",
       "        [6]]])"
      ]
     },
     "execution_count": 4,
     "metadata": {},
     "output_type": "execute_result"
    }
   ],
   "source": [
    "more_values = [[[4], [5], [6]]]\n",
    "y = np.array(more_values)\n",
    "y"
   ]
  },
  {
   "cell_type": "code",
   "execution_count": 5,
   "metadata": {},
   "outputs": [
    {
     "data": {
      "text/plain": [
       "array([[0, 0],\n",
       "       [0, 0],\n",
       "       [0, 0],\n",
       "       [0, 0],\n",
       "       [0, 0],\n",
       "       [0, 0],\n",
       "       [0, 0],\n",
       "       [0, 0],\n",
       "       [0, 0],\n",
       "       [0, 0],\n",
       "       [0, 0],\n",
       "       [0, 0],\n",
       "       [0, 0],\n",
       "       [0, 0],\n",
       "       [0, 0],\n",
       "       [0, 0],\n",
       "       [0, 0],\n",
       "       [0, 0],\n",
       "       [0, 0],\n",
       "       [0, 0]])"
      ]
     },
     "execution_count": 5,
     "metadata": {},
     "output_type": "execute_result"
    }
   ],
   "source": [
    "# tạo mảng 0 với 2 chiều\n",
    "zeros = np.zeros((20, 2), dtype=np.int32)\n",
    "zeros"
   ]
  },
  {
   "cell_type": "code",
   "execution_count": 6,
   "metadata": {},
   "outputs": [
    {
     "data": {
      "text/plain": [
       "array([[[1.],\n",
       "        [1.]],\n",
       "\n",
       "       [[1.],\n",
       "        [1.]],\n",
       "\n",
       "       [[1.],\n",
       "        [1.]],\n",
       "\n",
       "       [[1.],\n",
       "        [1.]],\n",
       "\n",
       "       [[1.],\n",
       "        [1.]]])"
      ]
     },
     "execution_count": 6,
     "metadata": {},
     "output_type": "execute_result"
    }
   ],
   "source": [
    "# \n",
    "one = np.ones((5, 2, 1), dtype=np.float64)\n",
    "one"
   ]
  },
  {
   "cell_type": "code",
   "execution_count": 7,
   "metadata": {},
   "outputs": [
    {
     "data": {
      "text/plain": [
       "array([0, 0])"
      ]
     },
     "execution_count": 7,
     "metadata": {},
     "output_type": "execute_result"
    }
   ],
   "source": [
    "x = np.array([5, 5])\n",
    "zeros = np.zeros_like(x)\n",
    "zeros"
   ]
  },
  {
   "cell_type": "code",
   "execution_count": 8,
   "metadata": {},
   "outputs": [
    {
     "data": {
      "text/plain": [
       "array([1., 1.], dtype=float32)"
      ]
     },
     "execution_count": 8,
     "metadata": {},
     "output_type": "execute_result"
    }
   ],
   "source": [
    "ones = np.ones_like(x, dtype=np.float32)\n",
    "ones"
   ]
  },
  {
   "cell_type": "code",
   "execution_count": 9,
   "metadata": {},
   "outputs": [
    {
     "name": "stdout",
     "output_type": "stream",
     "text": [
      "[0 1 2 3 4]\n",
      "[5 6 7 8 9]\n",
      "[5 7 9]\n"
     ]
    }
   ],
   "source": [
    "x = np.arange(5)\n",
    "print(x)\n",
    "\n",
    "y = np.arange(5, 10)\n",
    "print(y)\n",
    "\n",
    "z = np.arange(5, 10, 2)\n",
    "print(z)"
   ]
  },
  {
   "cell_type": "code",
   "execution_count": 10,
   "metadata": {},
   "outputs": [
    {
     "data": {
      "text/plain": [
       "array([[1., 0., 0., 0., 0.],\n",
       "       [0., 1., 0., 0., 0.],\n",
       "       [0., 0., 1., 0., 0.],\n",
       "       [0., 0., 0., 1., 0.],\n",
       "       [0., 0., 0., 0., 1.]])"
      ]
     },
     "execution_count": 10,
     "metadata": {},
     "output_type": "execute_result"
    }
   ],
   "source": [
    "np.eye(5)"
   ]
  },
  {
   "cell_type": "code",
   "execution_count": 11,
   "metadata": {},
   "outputs": [
    {
     "data": {
      "text/plain": [
       "array([[0.51252411, 0.17530716],\n",
       "       [0.01225259, 0.79547777]])"
      ]
     },
     "execution_count": 11,
     "metadata": {},
     "output_type": "execute_result"
    }
   ],
   "source": [
    "x = np.random.random((2, 2))\n",
    "x"
   ]
  },
  {
   "cell_type": "code",
   "execution_count": 12,
   "metadata": {},
   "outputs": [
    {
     "data": {
      "text/plain": [
       "array([[7, 7],\n",
       "       [7, 7]])"
      ]
     },
     "execution_count": 12,
     "metadata": {},
     "output_type": "execute_result"
    }
   ],
   "source": [
    "x = np.full((2, 2), 7)\n",
    "x"
   ]
  },
  {
   "cell_type": "code",
   "execution_count": 13,
   "metadata": {},
   "outputs": [
    {
     "data": {
      "text/plain": [
       "array([[7., 7.],\n",
       "       [7., 7.]])"
      ]
     },
     "execution_count": 13,
     "metadata": {},
     "output_type": "execute_result"
    }
   ],
   "source": [
    "x = np.ones((2, 2)) * 7\n",
    "x\n"
   ]
  },
  {
   "cell_type": "code",
   "execution_count": 14,
   "metadata": {},
   "outputs": [
    {
     "name": "stdout",
     "output_type": "stream",
     "text": [
      "int32\n",
      "(4,)\n"
     ]
    }
   ],
   "source": [
    "x = np.array([1, 2, 3, 4])\n",
    "y = np.array([5, 6, 7, 8], dtype=np.float32)\n",
    "print(x.dtype)\n",
    "print(y.shape)"
   ]
  },
  {
   "cell_type": "code",
   "execution_count": 15,
   "metadata": {},
   "outputs": [
    {
     "name": "stdout",
     "output_type": "stream",
     "text": [
      "(4,)\n",
      "(2, 4, 1, 2, 3)\n"
     ]
    }
   ],
   "source": [
    "x = np.array([1, 2, 3, 4])\n",
    "y = np.ones((2, 4, 1, 2, 3))\n",
    "print(x.shape)\n",
    "print(y.shape)"
   ]
  },
  {
   "cell_type": "code",
   "execution_count": 17,
   "metadata": {},
   "outputs": [
    {
     "name": "stdout",
     "output_type": "stream",
     "text": [
      "[[[7 7 7]\n",
      "  [7 7 7]]\n",
      "\n",
      " [[7 7 7]\n",
      "  [7 7 7]]]\n",
      "[[[[7 7 7]\n",
      "   [7 7 7]]\n",
      "\n",
      "  [[7 7 7]\n",
      "   [7 7 7]]]]\n",
      "[[[[7 7 7]\n",
      "   [7 7 7]]\n",
      "\n",
      "  [[7 7 7]\n",
      "   [7 7 7]]]]\n",
      "[[[[[7]\n",
      "    [7]\n",
      "    [7]]\n",
      "\n",
      "   [[7]\n",
      "    [7]\n",
      "    [7]]]\n",
      "\n",
      "\n",
      "  [[[7]\n",
      "    [7]\n",
      "    [7]]\n",
      "\n",
      "   [[7]\n",
      "    [7]\n",
      "    [7]]]]]\n",
      "[[[[[7]\n",
      "    [7]\n",
      "    [7]]\n",
      "\n",
      "   [[7]\n",
      "    [7]\n",
      "    [7]]]\n",
      "\n",
      "\n",
      "  [[[7]\n",
      "    [7]\n",
      "    [7]]\n",
      "\n",
      "   [[7]\n",
      "    [7]\n",
      "    [7]]]]]\n"
     ]
    }
   ],
   "source": [
    "x = np.full((2, 2, 3), 7)\n",
    "print(x)\n",
    "\n",
    "x = np.expand_dims(x, 0)\n",
    "print(x)\n",
    "assert x.shape == (1, 2, 2, 3)\n",
    "print(x)\n",
    "\n",
    "x = np.expand_dims(x, -1)\n",
    "print(x)\n",
    "assert x.shape == (1, 2, 2, 3, 1)\n",
    "print(x)"
   ]
  },
  {
   "cell_type": "code",
   "execution_count": 22,
   "metadata": {},
   "outputs": [
    {
     "name": "stdout",
     "output_type": "stream",
     "text": [
      "[0 1 2 3 4 5 6 7 8 9]\n",
      "[[0 1 2 3 4]\n",
      " [5 6 7 8 9]]\n"
     ]
    }
   ],
   "source": [
    "\n",
    "x = np.arange((10))\n",
    "print(x)\n",
    "y = np.reshape(x, (2, 5))\n",
    "print(y)\n",
    "assert y.shape == (2, 5)\n"
   ]
  },
  {
   "cell_type": "code",
   "execution_count": 29,
   "metadata": {},
   "outputs": [
    {
     "data": {
      "text/plain": [
       "10"
      ]
     },
     "execution_count": 29,
     "metadata": {},
     "output_type": "execute_result"
    }
   ],
   "source": [
    "x = np.arange(20)\n",
    "element = x[10]\n",
    "element"
   ]
  },
  {
   "cell_type": "code",
   "execution_count": 28,
   "metadata": {},
   "outputs": [
    {
     "data": {
      "text/plain": [
       "10"
      ]
     },
     "execution_count": 28,
     "metadata": {},
     "output_type": "execute_result"
    }
   ],
   "source": [
    "x = np.arange(20)\n",
    "elements = x.item(10)\n",
    "elements"
   ]
  },
  {
   "cell_type": "code",
   "execution_count": 31,
   "metadata": {},
   "outputs": [
    {
     "data": {
      "text/plain": [
       "array([10, 11, 12, 13, 14])"
      ]
     },
     "execution_count": 31,
     "metadata": {},
     "output_type": "execute_result"
    }
   ],
   "source": [
    "x = np.arange(20)\n",
    "elements = x[10:15]\n",
    "elements"
   ]
  },
  {
   "cell_type": "code",
   "execution_count": 34,
   "metadata": {},
   "outputs": [
    {
     "data": {
      "text/plain": [
       "array([10, 11, 12])"
      ]
     },
     "execution_count": 34,
     "metadata": {},
     "output_type": "execute_result"
    }
   ],
   "source": [
    "more_elements = x[10:-7]\n",
    "more_elements   "
   ]
  },
  {
   "cell_type": "code",
   "execution_count": 35,
   "metadata": {},
   "outputs": [
    {
     "data": {
      "text/plain": [
       "array([ 0,  3,  6,  9, 12, 15, 18])"
      ]
     },
     "execution_count": 35,
     "metadata": {},
     "output_type": "execute_result"
    }
   ],
   "source": [
    "x = x[::3]\n",
    "x"
   ]
  },
  {
   "cell_type": "code",
   "execution_count": 40,
   "metadata": {},
   "outputs": [
    {
     "name": "stdout",
     "output_type": "stream",
     "text": [
      "[[3 3 4]\n",
      " [3 3 4]\n",
      " [3 3 4]\n",
      " [3 3 4]\n",
      " [3 3 4]]\n",
      "--------------\n",
      "[[3 3 4]\n",
      " [3 3 4]\n",
      " [3 3 4]\n",
      " [3 3 4]\n",
      " [3 3 4]]\n"
     ]
    }
   ],
   "source": [
    "x = np.full((5, 2), 3)\n",
    "y = np.full((5, 1), 4)\n",
    "z = np.concatenate([x, y], axis=1)\n",
    "print(z)\n",
    "assert z.shape == (5, 3)\n",
    "print('--------------')\n",
    "print(z)"
   ]
  },
  {
   "cell_type": "code",
   "execution_count": 41,
   "metadata": {},
   "outputs": [
    {
     "name": "stdout",
     "output_type": "stream",
     "text": [
      "[[[8 8 8]\n",
      "  [8 8 8]]\n",
      "\n",
      " [[8 8 8]\n",
      "  [8 8 8]]\n",
      "\n",
      " [[8 8 8]\n",
      "  [8 8 8]]\n",
      "\n",
      " [[8 8 8]\n",
      "  [8 8 8]]]\n",
      "[[[1 1 1]\n",
      "  [1 1 1]]\n",
      "\n",
      " [[1 1 1]\n",
      "  [1 1 1]]\n",
      "\n",
      " [[1 1 1]\n",
      "  [1 1 1]]\n",
      "\n",
      " [[1 1 1]\n",
      "  [1 1 1]]]\n"
     ]
    }
   ],
   "source": [
    "x = np.full((4, 2, 3), 8)\n",
    "print(x)\n",
    "y = np.ones_like(x)\n",
    "print(y)"
   ]
  },
  {
   "cell_type": "code",
   "execution_count": 45,
   "metadata": {},
   "outputs": [
    {
     "name": "stdout",
     "output_type": "stream",
     "text": [
      "[[[7 7 7]\n",
      "  [7 7 7]]\n",
      "\n",
      " [[7 7 7]\n",
      "  [7 7 7]]\n",
      "\n",
      " [[7 7 7]\n",
      "  [7 7 7]]\n",
      "\n",
      " [[7 7 7]\n",
      "  [7 7 7]]]\n",
      "-----------------\n",
      "[[[7 7 7]\n",
      "  [7 7 7]]\n",
      "\n",
      " [[7 7 7]\n",
      "  [7 7 7]]\n",
      "\n",
      " [[7 7 7]\n",
      "  [7 7 7]]\n",
      "\n",
      " [[7 7 7]\n",
      "  [7 7 7]]]\n"
     ]
    }
   ],
   "source": [
    "array_sub = x - y\n",
    "print(array_sub)\n",
    "print(\"-----------------\")\n",
    "assert np.array_equal(array_sub, np.ones_like(x) * 7)\n",
    "print(array_sub)"
   ]
  },
  {
   "cell_type": "code",
   "execution_count": 48,
   "metadata": {},
   "outputs": [
    {
     "name": "stdout",
     "output_type": "stream",
     "text": [
      "[[[8 8 8]\n",
      "  [8 8 8]]\n",
      "\n",
      " [[8 8 8]\n",
      "  [8 8 8]]\n",
      "\n",
      " [[8 8 8]\n",
      "  [8 8 8]]\n",
      "\n",
      " [[8 8 8]\n",
      "  [8 8 8]]]\n",
      "[[[9 9 9]\n",
      "  [9 9 9]]\n",
      "\n",
      " [[9 9 9]\n",
      "  [9 9 9]]\n",
      "\n",
      " [[9 9 9]\n",
      "  [9 9 9]]\n",
      "\n",
      " [[9 9 9]\n",
      "  [9 9 9]]]\n",
      "-----------------\n",
      "[[[9 9 9]\n",
      "  [9 9 9]]\n",
      "\n",
      " [[9 9 9]\n",
      "  [9 9 9]]\n",
      "\n",
      " [[9 9 9]\n",
      "  [9 9 9]]\n",
      "\n",
      " [[9 9 9]\n",
      "  [9 9 9]]]\n",
      "-----------------\n",
      "[[[7 7 7]\n",
      "  [7 7 7]]\n",
      "\n",
      " [[7 7 7]\n",
      "  [7 7 7]]\n",
      "\n",
      " [[7 7 7]\n",
      "  [7 7 7]]\n",
      "\n",
      " [[7 7 7]\n",
      "  [7 7 7]]]\n"
     ]
    }
   ],
   "source": [
    "x = np.full((4, 2, 3), 8)\n",
    "y = 1\n",
    "\n",
    "array_sum = x + y\n",
    "print(array_sum)\n",
    "print(\"-----------------\")\n",
    "assert np.array_equal(array_sum, np.ones_like(x) * 9)\n",
    "print(array_sum)\n",
    "print(\"-----------------\")\n",
    "\n",
    "array_sub = x - y\n",
    "assert np.array_equal(array_sub, np.ones_like(x) * 7)\n",
    "print(array_sub)"
   ]
  },
  {
   "cell_type": "code",
   "execution_count": 50,
   "metadata": {},
   "outputs": [
    {
     "name": "stdout",
     "output_type": "stream",
     "text": [
      "[[[2 2 2]\n",
      "  [2 2 2]]\n",
      "\n",
      " [[2 2 2]\n",
      "  [2 2 2]]\n",
      "\n",
      " [[2 2 2]\n",
      "  [2 2 2]]\n",
      "\n",
      " [[2 2 2]\n",
      "  [2 2 2]]]\n",
      "-----------------\n",
      "[[[16 16 16]\n",
      "  [16 16 16]]\n",
      "\n",
      " [[16 16 16]\n",
      "  [16 16 16]]\n",
      "\n",
      " [[16 16 16]\n",
      "  [16 16 16]]\n",
      "\n",
      " [[16 16 16]\n",
      "  [16 16 16]]]\n",
      "-----------------\n",
      "[[[16 16 16]\n",
      "  [16 16 16]]\n",
      "\n",
      " [[16 16 16]\n",
      "  [16 16 16]]\n",
      "\n",
      " [[16 16 16]\n",
      "  [16 16 16]]\n",
      "\n",
      " [[16 16 16]\n",
      "  [16 16 16]]]\n"
     ]
    }
   ],
   "source": [
    "x = np.full((4, 2, 3), 8)\n",
    "y = np.ones_like(x) * 2\n",
    "print(y)\n",
    "print(\"-----------------\")\n",
    "mul = x * y\n",
    "assert np.array_equal(mul, np.ones_like(x) * 16)\n",
    "print(mul)\n",
    "print(\"-----------------\")\n",
    "mul2 = np.multiply(x, y)\n",
    "assert np.array_equal(mul2, np.ones_like(x) * 16)\n",
    "print(mul2)"
   ]
  },
  {
   "cell_type": "code",
   "execution_count": 53,
   "metadata": {},
   "outputs": [
    {
     "name": "stdout",
     "output_type": "stream",
     "text": [
      "[[1. 0. 0.]\n",
      " [0. 1. 0.]\n",
      " [0. 0. 1.]]\n",
      "-----------------\n",
      "[[[8. 8. 8.]\n",
      "  [8. 8. 8.]]\n",
      "\n",
      " [[8. 8. 8.]\n",
      "  [8. 8. 8.]]\n",
      "\n",
      " [[8. 8. 8.]\n",
      "  [8. 8. 8.]]\n",
      "\n",
      " [[8. 8. 8.]\n",
      "  [8. 8. 8.]]]\n",
      "-----------------\n",
      "[[7. 7. 7.]\n",
      " [7. 7. 7.]\n",
      " [7. 7. 7.]]\n"
     ]
    }
   ],
   "source": [
    "x1 = np.full((4, 2, 3), 8)\n",
    "x2 = np.full((3, 3), 7)\n",
    "y = np.eye(3)\n",
    "print(y)\n",
    "print(\"-----------------\")\n",
    "\n",
    "mul = np.matmul(x1, y)\n",
    "assert np.array_equal(mul, x1)\n",
    "\n",
    "print(mul)\n",
    "print(\"-----------------\")\n",
    "\n",
    "mul2 = np.matmul(x2, y)\n",
    "assert np.array_equal(mul2, x2)\n",
    "print(mul2)\n"
   ]
  },
  {
   "cell_type": "code",
   "execution_count": 54,
   "metadata": {},
   "outputs": [
    {
     "name": "stdout",
     "output_type": "stream",
     "text": [
      "[  0   0 255 255 255]\n"
     ]
    }
   ],
   "source": [
    "x = np.arange(5)\n",
    "y = np.where(x < 2, 0, 255) \n",
    "print(y)\n"
   ]
  },
  {
   "cell_type": "code",
   "execution_count": 56,
   "metadata": {},
   "outputs": [
    {
     "data": {
      "text/plain": [
       "array([[ 1.,  2.,  3.,  4.,  5.,  6.],\n",
       "       [ 7.,  8.,  9., 10., 11., 12.]], dtype=float32)"
      ]
     },
     "execution_count": 56,
     "metadata": {},
     "output_type": "execute_result"
    }
   ],
   "source": [
    "data = np.loadtxt('data.txt', dtype=np.float32,delimiter=',')\n",
    "data"
   ]
  },
  {
   "cell_type": "code",
   "execution_count": 58,
   "metadata": {},
   "outputs": [
    {
     "data": {
      "image/png": "[encoded data removed]",
      "text/plain": [
       "<Figure size 640x480 with 1 Axes>"
      ]
     },
     "metadata": {},
     "output_type": "display_data"
    }
   ],
   "source": [
    "import matplotlib.pyplot as plt\n",
    "\n",
    "\n",
    "labels = [7, 8, 9, 10, 11]\n",
    "x = np.arange(len(labels))\n",
    "m1 = [4.1, 4.2, 4.3, 4.4, 4.5]\n",
    "m2 = [3.1, 3.2, 3.3, 3.4, 3.5]\n",
    "\n",
    "plt.plot(x, m1, color='forestgreen', label='m1', linestyle='dashed', marker='o')    \n",
    "plt.plot(x, m2, color='darkorange', label='m2', linestyle='-', marker='o')\n",
    "\n",
    "plt.legend()\n",
    "plt.savefig(\"chart.png\")\n"
   ]
  },
  {
   "cell_type": "code",
   "execution_count": null,
   "metadata": {},
   "outputs": [],
   "source": []
  }
 ],
 "metadata": {
  "kernelspec": {
   "display_name": "Python 3",
   "language": "python",
   "name": "python3"
  },
  "language_info": {
   "codemirror_mode": {
    "name": "ipython",
    "version": 3
   },
   "file_extension": ".py",
   "mimetype": "text/x-python",
   "name": "python",
   "nbconvert_exporter": "python",
   "pygments_lexer": "ipython3",
   "version": "3.10.11"
  }
 },
 "nbformat": 4,
 "nbformat_minor": 2
}
