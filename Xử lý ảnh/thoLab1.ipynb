{
 "cells": [
  {
   "cell_type": "code",
   "execution_count": 9,
   "metadata": {},
   "outputs": [
    {
     "name": "stderr",
     "output_type": "stream",
     "text": [
      "ERROR: Could not find a version that satisfies the requirement cv2 (from versions: none)\n",
      "ERROR: No matching distribution found for cv2\n",
      "\n",
      "[notice] A new release of pip is available: 24.1.1 -> 24.2\n",
      "[notice] To update, run: python.exe -m pip install --upgrade pip\n"
     ]
    },
    {
     "name": "stdout",
     "output_type": "stream",
     "text": [
      "Requirement already satisfied: opencv-python in c:\\users\\thong\\appdata\\local\\programs\\python\\python310\\lib\\site-packages (4.9.0.80)\n",
      "Requirement already satisfied: numpy>=1.21.2 in c:\\users\\thong\\appdata\\local\\programs\\python\\python310\\lib\\site-packages (from opencv-python) (1.26.4)\n"
     ]
    },
    {
     "name": "stderr",
     "output_type": "stream",
     "text": [
      "\n",
      "[notice] A new release of pip is available: 24.1.1 -> 24.2\n",
      "[notice] To update, run: python.exe -m pip install --upgrade pip\n"
     ]
    }
   ],
   "source": [
    "# !pip install cv2\n",
    "# !pip install opencv-python\n"
   ]
  },
  {
   "cell_type": "code",
   "execution_count": 4,
   "metadata": {},
   "outputs": [
    {
     "data": {
      "image/png": "[encoded data removed]",
      "text/plain": [
       "<IPython.core.display.Image object>"
      ]
     },
     "metadata": {},
     "output_type": "display_data"
    },
    {
     "ename": "error",
     "evalue": "OpenCV(4.10.0) D:\\a\\opencv-python\\opencv-python\\opencv\\modules\\highgui\\src\\window.cpp:1367: error: (-2:Unspecified error) The function is not implemented. Rebuild the library with Windows, GTK+ 2.x or Cocoa support. If you are on Ubuntu or Debian, install libgtk2.0-dev and pkg-config, then re-run cmake or configure script in function 'cvWaitKey'\n",
     "output_type": "error",
     "traceback": [
      "\u001b[1;31m---------------------------------------------------------------------------\u001b[0m",
      "\u001b[1;31merror\u001b[0m                                     Traceback (most recent call last)",
      "Cell \u001b[1;32mIn[4], line 19\u001b[0m\n\u001b[0;32m     17\u001b[0m cv2\u001b[38;5;241m.\u001b[39mimwrite(\u001b[38;5;124m'\u001b[39m\u001b[38;5;124mchessboard.png\u001b[39m\u001b[38;5;124m'\u001b[39m, chessboard)  \u001b[38;5;66;03m# Save the image\u001b[39;00m\n\u001b[0;32m     18\u001b[0m display(Image(\u001b[38;5;124m'\u001b[39m\u001b[38;5;124mchessboard.png\u001b[39m\u001b[38;5;124m'\u001b[39m))   \n\u001b[1;32m---> 19\u001b[0m \u001b[43mcv2\u001b[49m\u001b[38;5;241;43m.\u001b[39;49m\u001b[43mwaitKey\u001b[49m\u001b[43m(\u001b[49m\u001b[38;5;241;43m0\u001b[39;49m\u001b[43m)\u001b[49m\n\u001b[0;32m     20\u001b[0m cv2\u001b[38;5;241m.\u001b[39mdestroyAllWindows()\n",
      "\u001b[1;31merror\u001b[0m: OpenCV(4.10.0) D:\\a\\opencv-python\\opencv-python\\opencv\\modules\\highgui\\src\\window.cpp:1367: error: (-2:Unspecified error) The function is not implemented. Rebuild the library with Windows, GTK+ 2.x or Cocoa support. If you are on Ubuntu or Debian, install libgtk2.0-dev and pkg-config, then re-run cmake or configure script in function 'cvWaitKey'\n"
     ]
    }
   ],
   "source": [
    "#1\n",
    "import numpy as np\n",
    "import cv2\n",
    "from IPython.display import Image, display\n",
    "\n",
    "# Đặt kích thước của 1 ô trên bàn cờ \n",
    "square_size = 50 # pixels\n",
    "\n",
    "# Tạo một mảng 2x2 toàn 0\n",
    "tile = np.zeros((2 * square_size, 2 * square_size), dtype=np.uint8)\n",
    "tile[:square_size, :square_size] = 255  # top-left white square\n",
    "tile[square_size:, square_size:] = 255  # bottom-right white square\n",
    "\n",
    "# Tạo bàn cờ 8x8 bằng cách lăp lại mảng tile 4 lần theo chiều ngang và 4 lần chiều dọc  \n",
    "chessboard = np.tile(tile, (4, 4))\n",
    "\n",
    "cv2.imwrite('chessboard.png', chessboard)  # Save the image\n",
    "display(Image('chessboard.png'))   \n",
    "cv2.waitKey(0)\n",
    "cv2.destroyAllWindows()\n"
   ]
  },
  {
   "cell_type": "code",
   "execution_count": 5,
   "metadata": {},
   "outputs": [
    {
     "ename": "error",
     "evalue": "OpenCV(4.10.0) D:\\a\\opencv-python\\opencv-python\\opencv\\modules\\highgui\\src\\window.cpp:1301: error: (-2:Unspecified error) The function is not implemented. Rebuild the library with Windows, GTK+ 2.x or Cocoa support. If you are on Ubuntu or Debian, install libgtk2.0-dev and pkg-config, then re-run cmake or configure script in function 'cvShowImage'\n",
     "output_type": "error",
     "traceback": [
      "\u001b[1;31m---------------------------------------------------------------------------\u001b[0m",
      "\u001b[1;31merror\u001b[0m                                     Traceback (most recent call last)",
      "Cell \u001b[1;32mIn[5], line 11\u001b[0m\n\u001b[0;32m      8\u001b[0m \u001b[38;5;66;03m# Sử dụng hàm cv2.bitwise_not() để đảo ngược màu ảnh\u001b[39;00m\n\u001b[0;32m      9\u001b[0m inverted_image \u001b[38;5;241m=\u001b[39m cv2\u001b[38;5;241m.\u001b[39mbitwise_not(image)\n\u001b[1;32m---> 11\u001b[0m \u001b[43mcv2\u001b[49m\u001b[38;5;241;43m.\u001b[39;49m\u001b[43mimshow\u001b[49m\u001b[43m(\u001b[49m\u001b[38;5;124;43m'\u001b[39;49m\u001b[38;5;124;43mOriginal Image\u001b[39;49m\u001b[38;5;124;43m'\u001b[39;49m\u001b[43m,\u001b[49m\u001b[43m \u001b[49m\u001b[43mimage\u001b[49m\u001b[43m)\u001b[49m\n\u001b[0;32m     12\u001b[0m \u001b[38;5;66;03m# cv2.imshow('Inverted Image', inverted_image)\u001b[39;00m\n\u001b[0;32m     13\u001b[0m cv2\u001b[38;5;241m.\u001b[39mwaitKey(\u001b[38;5;241m0\u001b[39m)\n",
      "\u001b[1;31merror\u001b[0m: OpenCV(4.10.0) D:\\a\\opencv-python\\opencv-python\\opencv\\modules\\highgui\\src\\window.cpp:1301: error: (-2:Unspecified error) The function is not implemented. Rebuild the library with Windows, GTK+ 2.x or Cocoa support. If you are on Ubuntu or Debian, install libgtk2.0-dev and pkg-config, then re-run cmake or configure script in function 'cvShowImage'\n"
     ]
    }
   ],
   "source": [
    "#2\n",
    "import cv2\n",
    "\n",
    "# Đọc ảnh\n",
    "image_path = \"team.jpg\"\n",
    "image = cv2.imread(image_path, cv2.IMREAD_GRAYSCALE)\n",
    "\n",
    "# Sử dụng hàm cv2.bitwise_not() để đảo ngược màu ảnh\n",
    "inverted_image = cv2.bitwise_not(image)\n",
    "\n",
    "# cv2.imshow('Original Image', image)\n",
    "cv2.imwrite('Original Image', chessboard)  # Save the image\n",
    "display(Image('Original Image'))   \n",
    "# cv2.imshow('Inverted Image', inverted_image)\n",
    "cv2.waitKey(0)\n",
    "# cv2.destroyAllWindows()\n",
    "\n",
    "# Lưu ảnh sau khi đảo\n",
    "cv2.imwrite(\"team.jpg\", inverted_image)\n"
   ]
  },
  {
   "cell_type": "code",
   "execution_count": null,
   "metadata": {},
   "outputs": [
    {
     "data": {
      "text/plain": [
       "True"
      ]
     },
     "execution_count": 15,
     "metadata": {},
     "output_type": "execute_result"
    }
   ],
   "source": [
    "#3\n",
    "import cv2\n",
    "import numpy as np\n",
    "import math\n",
    "\n",
    "# Đọc ảnh\n",
    "image_path = r'C:\\Users\\DELL USER\\Downloads\\thotran.jpg'\n",
    "image = cv2.imread(image_path)\n",
    "\n",
    "# Lấy kích thước ảnh (cao + rộng)\n",
    "(h, w) = image.shape[:2]\n",
    "\n",
    "# Góc xoay\n",
    "angle = 180\n",
    "# Chuyển từ độ sang radian\n",
    "angle_rad = math.radians(angle)\n",
    "\n",
    "# Tính tâm của ảnh bằng cách chia rộng cho 2 và cao cho 2\n",
    "cx, cy = w // 2, h // 2\n",
    "\n",
    "# Tạo một mảng rỗng cho ảnh xoay có cùng kích thước và kiểu với ảnh được đọc\n",
    "rotated_image = np.zeros_like(image)\n",
    "\n",
    "# Sử dụng vòng lặp for để xoay ảnh\n",
    "for y in range(h):\n",
    "    for x in range(w):\n",
    "        # Tinh tạo độ mới bằng công thức của phép xoay quanh tâm I(a,b)\n",
    "        # x' = (x-a) * cos(θ) - (y-b) * sin(θ) + a\n",
    "        # y' = (x-a) * sin(θ) + (y-b) * cos(θ) + b\n",
    "        new_x = int((x - cx) * math.cos(angle_rad) - (y - cy) * math.sin(angle_rad) + cx)\n",
    "        new_y = int((x - cx) * math.sin(angle_rad) + (y - cy) * math.cos(angle_rad) + cy)\n",
    "\n",
    "        # Kiểm tra xem vị trí mới có nằm trong phạm vi của ảnh không\n",
    "        if 0 <= new_x < w and 0 <= new_y < h:\n",
    "            rotated_image[new_y, new_x] = image[y, x]\n",
    "            \n",
    "cv2.imshow('Rotated Image', rotated_image)\n",
    "cv2.waitKey(0)\n",
    "cv2.destroyAllWindows()\n",
    "\n",
    "# Lưu ảnh sau khi xoay\n",
    "cv2.imwrite(r'C:\\Users\\DELL USER\\Downloads\\thotran_rotated.jpg', rotated_image)\n"
   ]
  },
  {
   "cell_type": "code",
   "execution_count": null,
   "metadata": {},
   "outputs": [
    {
     "data": {
      "text/plain": [
       "True"
      ]
     },
     "execution_count": 23,
     "metadata": {},
     "output_type": "execute_result"
    }
   ],
   "source": [
    "#4\n",
    "import cv2\n",
    "import numpy as np\n",
    "\n",
    "# Đọc ảnh\n",
    "image_path = r'C:\\Users\\DELL USER\\Downloads\\thotran.jpg'\n",
    "image = cv2.imread(image_path)\n",
    "\n",
    "# Đổi sang ảnh xám\n",
    "gray_image = cv2.cvtColor(image, cv2.COLOR_BGR2GRAY)\n",
    "\n",
    "# Sử dụng phương pháp ngưỡng để tạo ảnh nhị phân\n",
    "_, binary_image = cv2.threshold(gray_image, 127, 255, cv2.THRESH_BINARY)\n",
    "\n",
    "# Tìm viền của các đối tượng\n",
    "contours, _ = cv2.findContours(binary_image, cv2.RETR_EXTERNAL, cv2.CHAIN_APPROX_SIMPLE)\n",
    "\n",
    "# Tạo ảnh rỗng để vẽ viền\n",
    "contour_image = np.zeros_like(image)\n",
    "\n",
    "# Vẽ viền\n",
    "cv2.drawContours(contour_image, contours, -1, (255, 255, 255), 2)\n",
    "\n",
    "# cv2.imshow('Original Image', image)\n",
    "# cv2.imshow('Binary Image', binary_image)\n",
    "cv2.imshow('Contours', contour_image)\n",
    "cv2.waitKey(0)\n",
    "cv2.destroyAllWindows()\n",
    "\n",
    "# Lưu ảnh\n",
    "cv2.imwrite(r'C:\\Users\\DELL USER\\Downloads\\thotran_contours.jpg', contour_image)\n",
    "\n",
    "# Ngáo"
   ]
  },
  {
   "cell_type": "code",
   "execution_count": null,
   "metadata": {},
   "outputs": [
    {
     "data": {
      "text/plain": [
       "True"
      ]
     },
     "execution_count": 33,
     "metadata": {},
     "output_type": "execute_result"
    }
   ],
   "source": [
    "#5\n",
    "import cv2\n",
    "import numpy as np\n",
    "\n",
    "# Đọc ảnh\n",
    "image_path = r'C:\\Users\\DELL USER\\Downloads\\thotran.jpg'\n",
    "image = cv2.imread(image_path)\n",
    "\n",
    "# Gán độ dày và dài của đường thẳng\n",
    "line_thickness = 50\n",
    "line_length = 80   \n",
    "\n",
    "# Vẽ đường thẳng \n",
    "for i in range(line_thickness):\n",
    "    for j in range(line_length):\n",
    "        image[i, j] = [0, 0, 0]  # gán màu đen \n",
    "\n",
    "# # Draw a vertical black line\n",
    "# for i in range(line_length):\n",
    "#     for j in range(line_thickness):\n",
    "#         image[i, j] = [0, 0, 0]  # Set the pixel to black\n",
    "\n",
    "cv2.imshow('Image with Black Line', image)\n",
    "cv2.waitKey(0)\n",
    "cv2.destroyAllWindows()\n",
    "\n",
    "# Luư ảnh\n",
    "cv2.imwrite(r'C:\\Users\\DELL USER\\Downloads\\thotran_with_black_line.jpg', image)\n"
   ]
  },
  {
   "cell_type": "code",
   "execution_count": null,
   "metadata": {},
   "outputs": [
    {
     "data": {
      "text/plain": [
       "True"
      ]
     },
     "execution_count": 37,
     "metadata": {},
     "output_type": "execute_result"
    }
   ],
   "source": [
    "#6\n",
    "import numpy as np\n",
    "import cv2\n",
    "\n",
    "# Định nghĩa kích thước\n",
    "height = 256  \n",
    "width = 256  \n",
    "\n",
    "# Tạo ảnh rỗng bằng mảng toàn 0\n",
    "gradient_image = np.zeros((height, width), dtype=np.uint8)\n",
    "\n",
    "# Tô màu từ trắng đến đen\n",
    "for i in range(height):\n",
    "    gradient_value = int((i / height) * 255)  # Tính gradient\n",
    "    gradient_image[i, :] = gradient_value     # Gán gradient vừa tính cho các pixel trong hàng\n",
    "\n",
    "cv2.imshow('White to Black Gradient', gradient_image)\n",
    "cv2.waitKey(0)\n",
    "cv2.destroyAllWindows()\n",
    "\n",
    "# Lưu ảnh\n",
    "cv2.imwrite('white_black_gradient.jpg', gradient_image)\n"
   ]
  },
  {
   "cell_type": "code",
   "execution_count": null,
   "metadata": {},
   "outputs": [],
   "source": [
    "#7\n",
    "import numpy as np\n",
    "import cv2\n",
    "\n",
    "# Step 1: Create a blank canvas\n",
    "canvas_height = 200\n",
    "canvas_width = 200\n",
    "canvas = np.zeros((canvas_height, canvas_width, 3), dtype=np.uint8)\n",
    "\n",
    "# Step 2: Draw the letter \"B\"\n",
    "font = cv2.FONT_HERSHEY_SIMPLEX\n",
    "font_scale = 5\n",
    "font_thickness = 10\n",
    "text = \"B\"\n",
    "text_size = cv2.getTextSize(text, font, font_scale, font_thickness)[0]\n",
    "text_x = (canvas_width - text_size[0]) // 2\n",
    "text_y = (canvas_height + text_size[1]) // 2\n",
    "\n",
    "cv2.putText(canvas, text, (text_x, text_y), font, font_scale, (255, 255, 255), font_thickness)\n",
    "\n",
    "# Step 3: Display the image\n",
    "cv2.imshow('Letter B', canvas)\n",
    "cv2.waitKey(0)\n",
    "cv2.destroyAllWindows()\n",
    "\n",
    "# Ngáo"
   ]
  },
  {
   "cell_type": "code",
   "execution_count": null,
   "metadata": {},
   "outputs": [],
   "source": [
    "#8\n",
    "import cv2 \n",
    "  \n",
    "# reading the images \n",
    "circle = cv2.imread('pic1.png') \n",
    "star = cv2.imread('pic2.png') \n",
    "  \n",
    "# subtract the images \n",
    "subtracted = cv2.subtract(star, circle) \n",
    "  \n",
    "# TO show the output \n",
    "cv2.imshow('image', subtracted) \n",
    "  \n",
    "# To close the window \n",
    "cv2.waitKey(0) \n",
    "cv2.destroyAllWindows()\n",
    "# Ngáo"
   ]
  },
  {
   "cell_type": "code",
   "execution_count": null,
   "metadata": {},
   "outputs": [],
   "source": []
  }
 ],
 "metadata": {
  "kernelspec": {
   "display_name": "Python 3",
   "language": "python",
   "name": "python3"
  },
  "language_info": {
   "codemirror_mode": {
    "name": "ipython",
    "version": 3
   },
   "file_extension": ".py",
   "mimetype": "text/x-python",
   "name": "python",
   "nbconvert_exporter": "python",
   "pygments_lexer": "ipython3",
   "version": "3.10.11"
  }
 },
 "nbformat": 4,
 "nbformat_minor": 2
}
