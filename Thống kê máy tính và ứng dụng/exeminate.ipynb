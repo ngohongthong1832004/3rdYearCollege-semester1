{
 "cells": [
  {
   "cell_type": "code",
   "execution_count": 4,
   "metadata": {},
   "outputs": [
    {
     "name": "stdout",
     "output_type": "stream",
     "text": [
      "Chiều cao trung bình: 137.75 cm\n",
      "Cân nặng trung bình: 40.50 kg\n",
      "Kích thước mẫu tối thiểu cho chiều cao: 341\n",
      "Kích thước mẫu tối thiểu cho cân nặng: 480\n",
      "Kích thước mẫu tối thiểu cần thiết: 480\n"
     ]
    }
   ],
   "source": [
    "import pandas as pd\n",
    "import numpy as np\n",
    "from scipy import stats\n",
    "\n",
    "# Bước 1: Dữ liệu đầu vào\n",
    "data = {\n",
    "    \"Height Midpoints (cm)\": [115, 125, 135, 145, 155],\n",
    "    \"Weight 20-30\": [2, 4, 3, 0, 0],\n",
    "    \"Weight 30-40\": [5, 9, 15, 12, 2],\n",
    "    \"Weight 40-50\": [0, 6, 25, 20, 10],\n",
    "    \"Weight 50-60\": [0, 0, 1, 2, 4]\n",
    "}\n",
    "\n",
    "# Tạo DataFrame từ dữ liệu\n",
    "df = pd.DataFrame(data)\n",
    "\n",
    "# Bước 2: Tính tổng số trẻ em trong mỗi nhóm chiều cao\n",
    "df[\"Total Children\"] = df.iloc[:, 1:].sum(axis=1)\n",
    "\n",
    "# Tổng số trẻ em\n",
    "n_total = df[\"Total Children\"].sum()\n",
    "\n",
    "# Bước 3: Tính chiều cao trung bình có trọng số\n",
    "mean_height = (df[\"Height Midpoints (cm)\"] * df[\"Total Children\"]).sum() / n_total\n",
    "\n",
    "# Bước 4: Tính cân nặng trung bình có trọng số\n",
    "weight_midpoints = pd.Series([25, 35, 45, 55], index=[\"Weight 20-30\", \"Weight 30-40\", \"Weight 40-50\", \"Weight 50-60\"])\n",
    "weighted_sums = df.iloc[:, 1:-1].mul(weight_midpoints).sum().sum()\n",
    "mean_weight = weighted_sums / n_total\n",
    "\n",
    "# Bước 5: Tính độ lệch chuẩn của chiều cao và cân nặng\n",
    "std_height = np.std(df[\"Height Midpoints (cm)\"])\n",
    "std_weight = np.std(weight_midpoints)\n",
    "\n",
    "# Bước 6: Tính kích thước mẫu tối thiểu với sai số mong muốn\n",
    "z_value = 1.96  # Giá trị Z cho mức độ tin cậy 95%\n",
    "margin_error_height = 1.5  # Sai số cho chiều cao\n",
    "margin_error_weight = 1.0  # Sai số cho cân nặng\n",
    "\n",
    "# Kích thước mẫu cho chiều cao\n",
    "n_height = (z_value * std_height / margin_error_height) ** 2\n",
    "\n",
    "# Kích thước mẫu cho cân nặng\n",
    "n_weight = (z_value * std_weight / margin_error_weight) ** 2\n",
    "\n",
    "# Kích thước mẫu cuối cùng (lớn nhất của cả hai)\n",
    "n_required = max(n_height, n_weight)\n",
    "\n",
    "# Kết quả\n",
    "print(f\"Chiều cao trung bình: {mean_height:.2f} cm\")\n",
    "print(f\"Cân nặng trung bình: {mean_weight:.2f} kg\")\n",
    "print(f\"Kích thước mẫu tối thiểu cho chiều cao: {n_height:.0f}\")\n",
    "print(f\"Kích thước mẫu tối thiểu cho cân nặng: {n_weight:.0f}\")\n",
    "print(f\"Kích thước mẫu tối thiểu cần thiết: {n_required:.0f}\")\n"
   ]
  },
  {
   "cell_type": "code",
   "execution_count": null,
   "metadata": {},
   "outputs": [],
   "source": []
  }
 ],
 "metadata": {
  "kernelspec": {
   "display_name": "Python 3",
   "language": "python",
   "name": "python3"
  },
  "language_info": {
   "codemirror_mode": {
    "name": "ipython",
    "version": 3
   },
   "file_extension": ".py",
   "mimetype": "text/x-python",
   "name": "python",
   "nbconvert_exporter": "python",
   "pygments_lexer": "ipython3",
   "version": "3.10.11"
  }
 },
 "nbformat": 4,
 "nbformat_minor": 2
}
