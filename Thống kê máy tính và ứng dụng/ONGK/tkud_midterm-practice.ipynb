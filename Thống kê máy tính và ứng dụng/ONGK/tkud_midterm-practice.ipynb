{
 "cells": [
  {
   "cell_type": "markdown",
   "metadata": {},
   "source": [
    "# Ôn tập giữa kỳ\n"
   ]
  },
  {
   "cell_type": "code",
   "execution_count": 1,
   "metadata": {},
   "outputs": [],
   "source": [
    "# import library...\n",
    "# ...\n",
    "import numpy as np\n",
    "import pandas as pd\n",
    "import matplotlib.pyplot as plt"
   ]
  },
  {
   "cell_type": "markdown",
   "metadata": {},
   "source": [
    "## ĐỀ BÀI\n",
    "\n",
    "Hệ thống giám sát rủi ro dựa trên hành vi (The Behavior Risk Factor Surveilance System - BRFSS) là một cuộc khảo sát qua điện thoại hàng năm với 350.000 người ở Hoa Kỳ. Như tên gọi của nó, BRFSS được thiết kế để xác định các yếu tố nguy cơ ở người trưởng thành và báo cáo các xu hướng sức khỏe mớ. Ví dụ, người trả lời được hỏi về chế độ ăn uống và hoạt động thể chất hàng tuần, tình trạng HIV/AIDS, khả năng sử dụng thuốc lá và thậm chí cả mức độ chi trả dịch vụ chăm sóc sức khỏe của họ. \n",
    "\n",
    "Bộ dữ liệu **brfss_2000** chứa thông tin khảo sát năm 2000, với hơn 200 thông tin. Trong bộ dữ liệu này, ta chỉ khảo sát một số thông tin sau:\n",
    "-\tgenhlth: người khảo sát tự đánh giá sức khỏe (excellent, very good, good, fair or poor)\n",
    "-\texerany: cho biết có hoạt động thể chất nào trong tháng gần nhất hay không, có (1), không (0)\n",
    "-\thlthplan: có bảo hiểm (1) hay không (0)\n",
    "-\tsmoke100: tổng số điếu thuốc đã hút ít nhất\n",
    "-\theight: chiều cao (inches)\n",
    "-\tweight: cân nặng (pounds)\n",
    "-\twtdesire:  cân nặng mong muốn(pounds)\n",
    "-\tage: tuổi\n",
    "-\tgender: giới tính: nam(m), nữ(f)\n"
   ]
  },
  {
   "cell_type": "markdown",
   "metadata": {},
   "source": [
    "### Câu 1:\n",
    "\n",
    "Đọc hai bộ dữ liệu trên và cho biết mỗi bộ dữ liệu có kích thước bao nhiêu dòng, bao nhiêu cột?"
   ]
  },
  {
   "cell_type": "code",
   "execution_count": 2,
   "metadata": {},
   "outputs": [],
   "source": [
    "brfss = pd.read_csv(\"./data/brfss_2000.csv\")\n",
    "brfss.head()\n",
    "\n",
    "df = pd.DataFrame(brfss)"
   ]
  },
  {
   "cell_type": "code",
   "execution_count": 3,
   "metadata": {},
   "outputs": [
    {
     "data": {
      "text/plain": [
       "(20000, 9)"
      ]
     },
     "execution_count": 3,
     "metadata": {},
     "output_type": "execute_result"
    }
   ],
   "source": [
    "# so dong va so cot\n",
    "brfss.shape"
   ]
  },
  {
   "cell_type": "code",
   "execution_count": 4,
   "metadata": {},
   "outputs": [
    {
     "data": {
      "text/html": [
       "<div>\n",
       "<style scoped>\n",
       "    .dataframe tbody tr th:only-of-type {\n",
       "        vertical-align: middle;\n",
       "    }\n",
       "\n",
       "    .dataframe tbody tr th {\n",
       "        vertical-align: top;\n",
       "    }\n",
       "\n",
       "    .dataframe thead th {\n",
       "        text-align: right;\n",
       "    }\n",
       "</style>\n",
       "<table border=\"1\" class=\"dataframe\">\n",
       "  <thead>\n",
       "    <tr style=\"text-align: right;\">\n",
       "      <th></th>\n",
       "      <th>exerany</th>\n",
       "      <th>hlthplan</th>\n",
       "      <th>smoke100</th>\n",
       "      <th>height</th>\n",
       "      <th>weight</th>\n",
       "      <th>wtdesire</th>\n",
       "      <th>age</th>\n",
       "    </tr>\n",
       "  </thead>\n",
       "  <tbody>\n",
       "    <tr>\n",
       "      <th>count</th>\n",
       "      <td>20000.000000</td>\n",
       "      <td>20000.000000</td>\n",
       "      <td>20000.000000</td>\n",
       "      <td>20000.000000</td>\n",
       "      <td>20000.00000</td>\n",
       "      <td>20000.000000</td>\n",
       "      <td>20000.000000</td>\n",
       "    </tr>\n",
       "    <tr>\n",
       "      <th>mean</th>\n",
       "      <td>0.745700</td>\n",
       "      <td>0.873800</td>\n",
       "      <td>0.472050</td>\n",
       "      <td>67.182900</td>\n",
       "      <td>169.68295</td>\n",
       "      <td>155.093850</td>\n",
       "      <td>45.068250</td>\n",
       "    </tr>\n",
       "    <tr>\n",
       "      <th>std</th>\n",
       "      <td>0.435478</td>\n",
       "      <td>0.332083</td>\n",
       "      <td>0.499231</td>\n",
       "      <td>4.125954</td>\n",
       "      <td>40.08097</td>\n",
       "      <td>32.013306</td>\n",
       "      <td>17.192689</td>\n",
       "    </tr>\n",
       "    <tr>\n",
       "      <th>min</th>\n",
       "      <td>0.000000</td>\n",
       "      <td>0.000000</td>\n",
       "      <td>0.000000</td>\n",
       "      <td>48.000000</td>\n",
       "      <td>68.00000</td>\n",
       "      <td>68.000000</td>\n",
       "      <td>18.000000</td>\n",
       "    </tr>\n",
       "    <tr>\n",
       "      <th>25%</th>\n",
       "      <td>0.000000</td>\n",
       "      <td>1.000000</td>\n",
       "      <td>0.000000</td>\n",
       "      <td>64.000000</td>\n",
       "      <td>140.00000</td>\n",
       "      <td>130.000000</td>\n",
       "      <td>31.000000</td>\n",
       "    </tr>\n",
       "    <tr>\n",
       "      <th>50%</th>\n",
       "      <td>1.000000</td>\n",
       "      <td>1.000000</td>\n",
       "      <td>0.000000</td>\n",
       "      <td>67.000000</td>\n",
       "      <td>165.00000</td>\n",
       "      <td>150.000000</td>\n",
       "      <td>43.000000</td>\n",
       "    </tr>\n",
       "    <tr>\n",
       "      <th>75%</th>\n",
       "      <td>1.000000</td>\n",
       "      <td>1.000000</td>\n",
       "      <td>1.000000</td>\n",
       "      <td>70.000000</td>\n",
       "      <td>190.00000</td>\n",
       "      <td>175.000000</td>\n",
       "      <td>57.000000</td>\n",
       "    </tr>\n",
       "    <tr>\n",
       "      <th>max</th>\n",
       "      <td>1.000000</td>\n",
       "      <td>1.000000</td>\n",
       "      <td>1.000000</td>\n",
       "      <td>93.000000</td>\n",
       "      <td>500.00000</td>\n",
       "      <td>680.000000</td>\n",
       "      <td>99.000000</td>\n",
       "    </tr>\n",
       "  </tbody>\n",
       "</table>\n",
       "</div>"
      ],
      "text/plain": [
       "            exerany      hlthplan      smoke100        height       weight  \\\n",
       "count  20000.000000  20000.000000  20000.000000  20000.000000  20000.00000   \n",
       "mean       0.745700      0.873800      0.472050     67.182900    169.68295   \n",
       "std        0.435478      0.332083      0.499231      4.125954     40.08097   \n",
       "min        0.000000      0.000000      0.000000     48.000000     68.00000   \n",
       "25%        0.000000      1.000000      0.000000     64.000000    140.00000   \n",
       "50%        1.000000      1.000000      0.000000     67.000000    165.00000   \n",
       "75%        1.000000      1.000000      1.000000     70.000000    190.00000   \n",
       "max        1.000000      1.000000      1.000000     93.000000    500.00000   \n",
       "\n",
       "           wtdesire           age  \n",
       "count  20000.000000  20000.000000  \n",
       "mean     155.093850     45.068250  \n",
       "std       32.013306     17.192689  \n",
       "min       68.000000     18.000000  \n",
       "25%      130.000000     31.000000  \n",
       "50%      150.000000     43.000000  \n",
       "75%      175.000000     57.000000  \n",
       "max      680.000000     99.000000  "
      ]
     },
     "execution_count": 4,
     "metadata": {},
     "output_type": "execute_result"
    }
   ],
   "source": [
    "df.describe()"
   ]
  },
  {
   "cell_type": "code",
   "execution_count": 5,
   "metadata": {},
   "outputs": [
    {
     "name": "stdout",
     "output_type": "stream",
     "text": [
      "<class 'pandas.core.frame.DataFrame'>\n",
      "RangeIndex: 20000 entries, 0 to 19999\n",
      "Data columns (total 9 columns):\n",
      " #   Column    Non-Null Count  Dtype \n",
      "---  ------    --------------  ----- \n",
      " 0   exerany   20000 non-null  int64 \n",
      " 1   hlthplan  20000 non-null  int64 \n",
      " 2   smoke100  20000 non-null  int64 \n",
      " 3   height    20000 non-null  int64 \n",
      " 4   weight    20000 non-null  int64 \n",
      " 5   wtdesire  20000 non-null  int64 \n",
      " 6   age       20000 non-null  int64 \n",
      " 7   gender    20000 non-null  object\n",
      " 8   genhlth   20000 non-null  object\n",
      "dtypes: int64(7), object(2)\n",
      "memory usage: 1.4+ MB\n"
     ]
    }
   ],
   "source": [
    "df.info()"
   ]
  },
  {
   "cell_type": "markdown",
   "metadata": {},
   "source": [
    "### Câu 2\n",
    "\n",
    "a, Tính tỷ lệ nam nữ\n",
    "\n",
    "b, Trong số những người tập thể thao, tỷ lệ những người tự đánh giá có sức khỏe kém là bao nhiêu?"
   ]
  },
  {
   "cell_type": "code",
   "execution_count": 6,
   "metadata": {},
   "outputs": [
    {
     "name": "stdout",
     "output_type": "stream",
     "text": [
      "so nam : 9569\n",
      "so nu : 10431\n",
      "ti le giua nam va nu : 0.9173617102866456\n"
     ]
    }
   ],
   "source": [
    "male = df[(df[\"gender\"] == \"m\")].shape[0]\n",
    "female = df[(df[\"gender\"] == \"f\")].shape[0]\n",
    "\n",
    "\n",
    "print(\"so nam :\", male)\n",
    "print(\"so nu :\", female)\n",
    "print(\"ti le giua nam va nu :\", male/female)"
   ]
  },
  {
   "cell_type": "code",
   "execution_count": 81,
   "metadata": {},
   "outputs": [
    {
     "data": {
      "text/plain": [
       "1634"
      ]
     },
     "execution_count": 81,
     "metadata": {},
     "output_type": "execute_result"
    }
   ],
   "source": [
    "fairWithHeltpPlan = df[(df[\"hlthplan\"] == 1) & (df[\"genhlth\"] == \"fair\")].shape[0]\n",
    "fairWithHeltpPlan"
   ]
  },
  {
   "cell_type": "markdown",
   "metadata": {},
   "source": [
    "### Câu 3\n",
    "\n",
    "a, Đổi đơn vị chiều cao từ inches sang centimet, đơn vị cân nặng từ pound sang kg.\n",
    "\n",
    "b, Tính tỷ lệ những người muốn giảm cân."
   ]
  },
  {
   "cell_type": "code",
   "execution_count": 82,
   "metadata": {},
   "outputs": [
    {
     "data": {
      "text/html": [
       "<div>\n",
       "<style scoped>\n",
       "    .dataframe tbody tr th:only-of-type {\n",
       "        vertical-align: middle;\n",
       "    }\n",
       "\n",
       "    .dataframe tbody tr th {\n",
       "        vertical-align: top;\n",
       "    }\n",
       "\n",
       "    .dataframe thead th {\n",
       "        text-align: right;\n",
       "    }\n",
       "</style>\n",
       "<table border=\"1\" class=\"dataframe\">\n",
       "  <thead>\n",
       "    <tr style=\"text-align: right;\">\n",
       "      <th></th>\n",
       "      <th>exerany</th>\n",
       "      <th>hlthplan</th>\n",
       "      <th>smoke100</th>\n",
       "      <th>height</th>\n",
       "      <th>weight</th>\n",
       "      <th>wtdesire</th>\n",
       "      <th>age</th>\n",
       "      <th>gender</th>\n",
       "      <th>genhlth</th>\n",
       "    </tr>\n",
       "  </thead>\n",
       "  <tbody>\n",
       "    <tr>\n",
       "      <th>0</th>\n",
       "      <td>0</td>\n",
       "      <td>1</td>\n",
       "      <td>0</td>\n",
       "      <td>177.80</td>\n",
       "      <td>79.378600</td>\n",
       "      <td>175</td>\n",
       "      <td>77</td>\n",
       "      <td>m</td>\n",
       "      <td>good</td>\n",
       "    </tr>\n",
       "    <tr>\n",
       "      <th>1</th>\n",
       "      <td>0</td>\n",
       "      <td>1</td>\n",
       "      <td>1</td>\n",
       "      <td>162.56</td>\n",
       "      <td>56.699000</td>\n",
       "      <td>115</td>\n",
       "      <td>33</td>\n",
       "      <td>f</td>\n",
       "      <td>good</td>\n",
       "    </tr>\n",
       "    <tr>\n",
       "      <th>2</th>\n",
       "      <td>1</td>\n",
       "      <td>1</td>\n",
       "      <td>1</td>\n",
       "      <td>152.40</td>\n",
       "      <td>47.627160</td>\n",
       "      <td>105</td>\n",
       "      <td>49</td>\n",
       "      <td>f</td>\n",
       "      <td>good</td>\n",
       "    </tr>\n",
       "    <tr>\n",
       "      <th>3</th>\n",
       "      <td>1</td>\n",
       "      <td>1</td>\n",
       "      <td>0</td>\n",
       "      <td>167.64</td>\n",
       "      <td>59.874144</td>\n",
       "      <td>124</td>\n",
       "      <td>42</td>\n",
       "      <td>f</td>\n",
       "      <td>good</td>\n",
       "    </tr>\n",
       "    <tr>\n",
       "      <th>4</th>\n",
       "      <td>0</td>\n",
       "      <td>1</td>\n",
       "      <td>0</td>\n",
       "      <td>154.94</td>\n",
       "      <td>68.038800</td>\n",
       "      <td>130</td>\n",
       "      <td>55</td>\n",
       "      <td>f</td>\n",
       "      <td>very good</td>\n",
       "    </tr>\n",
       "    <tr>\n",
       "      <th>...</th>\n",
       "      <td>...</td>\n",
       "      <td>...</td>\n",
       "      <td>...</td>\n",
       "      <td>...</td>\n",
       "      <td>...</td>\n",
       "      <td>...</td>\n",
       "      <td>...</td>\n",
       "      <td>...</td>\n",
       "      <td>...</td>\n",
       "    </tr>\n",
       "    <tr>\n",
       "      <th>19995</th>\n",
       "      <td>1</td>\n",
       "      <td>1</td>\n",
       "      <td>0</td>\n",
       "      <td>167.64</td>\n",
       "      <td>97.522280</td>\n",
       "      <td>140</td>\n",
       "      <td>23</td>\n",
       "      <td>f</td>\n",
       "      <td>good</td>\n",
       "    </tr>\n",
       "    <tr>\n",
       "      <th>19996</th>\n",
       "      <td>0</td>\n",
       "      <td>1</td>\n",
       "      <td>0</td>\n",
       "      <td>185.42</td>\n",
       "      <td>90.718400</td>\n",
       "      <td>185</td>\n",
       "      <td>35</td>\n",
       "      <td>m</td>\n",
       "      <td>excellent</td>\n",
       "    </tr>\n",
       "    <tr>\n",
       "      <th>19997</th>\n",
       "      <td>0</td>\n",
       "      <td>1</td>\n",
       "      <td>0</td>\n",
       "      <td>165.10</td>\n",
       "      <td>97.975872</td>\n",
       "      <td>150</td>\n",
       "      <td>57</td>\n",
       "      <td>f</td>\n",
       "      <td>poor</td>\n",
       "    </tr>\n",
       "    <tr>\n",
       "      <th>19998</th>\n",
       "      <td>1</td>\n",
       "      <td>1</td>\n",
       "      <td>0</td>\n",
       "      <td>170.18</td>\n",
       "      <td>74.842680</td>\n",
       "      <td>165</td>\n",
       "      <td>81</td>\n",
       "      <td>f</td>\n",
       "      <td>good</td>\n",
       "    </tr>\n",
       "    <tr>\n",
       "      <th>19999</th>\n",
       "      <td>1</td>\n",
       "      <td>1</td>\n",
       "      <td>1</td>\n",
       "      <td>175.26</td>\n",
       "      <td>77.110640</td>\n",
       "      <td>165</td>\n",
       "      <td>83</td>\n",
       "      <td>m</td>\n",
       "      <td>good</td>\n",
       "    </tr>\n",
       "  </tbody>\n",
       "</table>\n",
       "<p>20000 rows × 9 columns</p>\n",
       "</div>"
      ],
      "text/plain": [
       "       exerany  hlthplan  smoke100  height     weight  wtdesire  age gender  \\\n",
       "0            0         1         0  177.80  79.378600       175   77      m   \n",
       "1            0         1         1  162.56  56.699000       115   33      f   \n",
       "2            1         1         1  152.40  47.627160       105   49      f   \n",
       "3            1         1         0  167.64  59.874144       124   42      f   \n",
       "4            0         1         0  154.94  68.038800       130   55      f   \n",
       "...        ...       ...       ...     ...        ...       ...  ...    ...   \n",
       "19995        1         1         0  167.64  97.522280       140   23      f   \n",
       "19996        0         1         0  185.42  90.718400       185   35      m   \n",
       "19997        0         1         0  165.10  97.975872       150   57      f   \n",
       "19998        1         1         0  170.18  74.842680       165   81      f   \n",
       "19999        1         1         1  175.26  77.110640       165   83      m   \n",
       "\n",
       "         genhlth  \n",
       "0           good  \n",
       "1           good  \n",
       "2           good  \n",
       "3           good  \n",
       "4      very good  \n",
       "...          ...  \n",
       "19995       good  \n",
       "19996  excellent  \n",
       "19997       poor  \n",
       "19998       good  \n",
       "19999       good  \n",
       "\n",
       "[20000 rows x 9 columns]"
      ]
     },
     "execution_count": 82,
     "metadata": {},
     "output_type": "execute_result"
    }
   ],
   "source": [
    "# chuyern doi du lieu tue centimeters sang inches\n",
    "df[\"height\"] = df[\"height\"] * 2.54\n",
    "df\n",
    "\n",
    "df[\"weight\"] = df[\"weight\"] * 0.453592\n",
    "df"
   ]
  },
  {
   "cell_type": "code",
   "execution_count": 84,
   "metadata": {},
   "outputs": [
    {
     "data": {
      "text/plain": [
       "0.6382"
      ]
     },
     "execution_count": 84,
     "metadata": {},
     "output_type": "execute_result"
    }
   ],
   "source": [
    "fairWithHeltpPlan = df[(df[\"weight\"] > (df[\"wtdesire\"] * 0.453592))].shape[0]\n",
    "fairWithHeltpPlan / df.shape[0]"
   ]
  },
  {
   "cell_type": "markdown",
   "metadata": {},
   "source": [
    "### Câu 4:\n",
    "\n",
    "a, Theo bạn trong các thuộc tính trên, thuộc tính nào có phân phối chuẩn. Vẽ hình minh họa\n",
    "\n",
    "b, Vẽ đồ thị boxplot so sánh cân nặng của những người có tập thể dục"
   ]
  },
  {
   "cell_type": "code",
   "execution_count": 86,
   "metadata": {},
   "outputs": [
    {
     "data": {
      "image/png": "[encoded data removed]",
      "text/plain": [
       "<Figure size 640x480 with 9 Axes>"
      ]
     },
     "metadata": {},
     "output_type": "display_data"
    }
   ],
   "source": [
    "df.hist()\n",
    "plt.show()"
   ]
  },
  {
   "cell_type": "markdown",
   "metadata": {},
   "source": [
    "## Vậy là có 3 trường Height, Weight, Wtdesire. Có phân phối chuẩn"
   ]
  },
  {
   "cell_type": "code",
   "execution_count": 87,
   "metadata": {},
   "outputs": [
    {
     "data": {
      "image/png": "[encoded data removed]",
      "text/plain": [
       "<Figure size 640x480 with 1 Axes>"
      ]
     },
     "metadata": {},
     "output_type": "display_data"
    }
   ],
   "source": [
    "#b, Vẽ đồ thị boxplot so sánh cân nặng của những người có tập thể dục và không tập thể dục\n",
    "df.boxplot(column=\"weight\", by=\"exerany\")\n",
    "plt.show()\n"
   ]
  },
  {
   "cell_type": "markdown",
   "metadata": {},
   "source": [
    "\n",
    "### Câu 5\n",
    "\n",
    "Phân bố tuổi tác trong mẫu: Hãy mô tả phân bố tuổi của người tham gia khảo sát. Tuổi trung bình, độ lệch chuẩn, và các phân vị 25%, 50%, 75% là bao nhiêu?\n",
    "\n"
   ]
  },
  {
   "cell_type": "code",
   "execution_count": 88,
   "metadata": {},
   "outputs": [
    {
     "data": {
      "text/plain": [
       "count    20000.000000\n",
       "mean        45.068250\n",
       "std         17.192689\n",
       "min         18.000000\n",
       "25%         31.000000\n",
       "50%         43.000000\n",
       "75%         57.000000\n",
       "max         99.000000\n",
       "Name: age, dtype: float64"
      ]
     },
     "execution_count": 88,
     "metadata": {},
     "output_type": "execute_result"
    }
   ],
   "source": [
    "# Phân bố tuổi tác trong mẫu: Hãy mô tả phân bố tuổi của người tham gia khảo sát. Tuổi trung bình, độ lệch chuẩn, và các phân vị 25%, 50%, 75% là bao nhiêu?\n",
    "df[\"age\"].describe()\n"
   ]
  },
  {
   "cell_type": "code",
   "execution_count": 92,
   "metadata": {},
   "outputs": [
    {
     "data": {
      "text/plain": [
       "(45.06825,\n",
       " 17.19268947448503,\n",
       " 0.25    31.0\n",
       " 0.50    43.0\n",
       " 0.75    57.0\n",
       " Name: age, dtype: float64)"
      ]
     },
     "execution_count": 92,
     "metadata": {},
     "output_type": "execute_result"
    }
   ],
   "source": [
    "# tuổi trung bình của nam và nữ\n",
    "avgAge = df[\"age\"].mean()\n",
    "stdAge = df[\"age\"].std()\n",
    "quantileAge = df[\"age\"].quantile([0.25, 0.5, 0.75])\n",
    "\n",
    "avgAge, stdAge, quantileAge"
   ]
  },
  {
   "cell_type": "markdown",
   "metadata": {},
   "source": [
    "### Câu 6\n",
    "\n",
    "Tỉ lệ người hút thuốc: Tính tỉ lệ phần trăm người tham gia khảo sát hiện đang hút thuốc lá. Liệu có sự khác biệt đáng kể về tỉ lệ này giữa các nhóm tuổi khác nhau không?\n",
    "\n"
   ]
  },
  {
   "cell_type": "code",
   "execution_count": 96,
   "metadata": {},
   "outputs": [
    {
     "name": "stdout",
     "output_type": "stream",
     "text": [
      "Tỉ lệ người hút thuốc theo tuổi age\n",
      "18     92\n",
      "19    110\n",
      "20    127\n",
      "21    154\n",
      "22    137\n",
      "     ... \n",
      "92      4\n",
      "93      2\n",
      "96      1\n",
      "97      1\n",
      "99      1\n",
      "Length: 79, dtype: int64\n",
      "Tỉ lệ người hút thuốc 0.47205\n"
     ]
    },
    {
     "data": {
      "image/png": "[encoded data removed]",
      "text/plain": [
       "<Figure size 640x480 with 1 Axes>"
      ]
     },
     "metadata": {},
     "output_type": "display_data"
    }
   ],
   "source": [
    "# Tỉ lệ người hút thuốc: Tính tỉ lệ phần trăm người tham gia khảo sát hiện đang hút thuốc lá. Liệu có sự khác biệt đáng kể về tỉ lệ này giữa các nhóm tuổi khác nhau không?\n",
    "smoke = df[(df[\"smoke100\"] == 1)].shape[0]\n",
    "smoke / df.shape[0]\n",
    "\n",
    "# Tỉ lệ người hút thuốc theo tuổi\n",
    "smokeByAge = df[(df[\"smoke100\"] == 1)].groupby(\"age\").size()\n",
    "smokeByAge / df.groupby(\"age\").size()\n",
    "\n",
    "\n",
    "\n",
    "print(\"Tỉ lệ người hút thuốc theo tuổi\", smokeByAge)\n",
    "print(\"Tỉ lệ người hút thuốc\", smoke / df.shape[0])\n",
    "\n",
    "\n",
    "# ve do thi\n",
    "smokeByAge.plot(kind=\"bar\")\n",
    "plt.show()"
   ]
  },
  {
   "cell_type": "markdown",
   "metadata": {},
   "source": [
    "### Câu 7\n",
    "\n",
    "BMI trung bình theo giới tính: Tính chỉ số BMI trung bình cho nam và nữ trong mẫu. \n",
    "\n"
   ]
  },
  {
   "cell_type": "code",
   "execution_count": 8,
   "metadata": {},
   "outputs": [
    {
     "data": {
      "text/plain": [
       "(382.98250047040466, 366.16141361877106)"
      ]
     },
     "execution_count": 8,
     "metadata": {},
     "output_type": "execute_result"
    }
   ],
   "source": [
    "# Tính BMI cho nam\n",
    "BMIMale = (df[df[\"gender\"] == \"m\"][\"weight\"].astype(float) / (df[df[\"gender\"] == \"m\"][\"height\"].astype(float) / 100) ** 2).mean()\n",
    "\n",
    "# Tính BMI cho nữ\n",
    "BMIFemale = (df[df[\"gender\"] == \"f\"][\"weight\"].astype(float) / (df[df[\"gender\"] == \"f\"][\"height\"].astype(float) / 100) ** 2).mean()\n",
    "\n",
    "BMIMale, BMIFemale\n"
   ]
  },
  {
   "cell_type": "markdown",
   "metadata": {},
   "source": [
    "### câu 8\n",
    "\n",
    "Phân tích tỉ lệ bệnh béo phì: Sử dụng các tiêu chuẩn của CDC về chỉ số BMI để phân loại người tham gia vào nhóm béo phì. Tính tỉ lệ béo phì theo giới tính và độ tuổi. "
   ]
  },
  {
   "cell_type": "code",
   "execution_count": 99,
   "metadata": {},
   "outputs": [
    {
     "name": "stderr",
     "output_type": "stream",
     "text": [
      "C:\\Users\\thong\\AppData\\Local\\Temp\\ipykernel_8160\\2020101894.py:29: FutureWarning: The default of observed=False is deprecated and will be changed to True in a future version of pandas. Pass observed=False to retain current behavior or observed=True to adopt the future default and silence this warning.\n",
      "  obesity_age = df[df['BMI_Category'] == 'Obese'].groupby('age_group').size() / df.groupby('age_group').size()\n",
      "C:\\Users\\thong\\AppData\\Local\\Temp\\ipykernel_8160\\2020101894.py:29: FutureWarning: The default of observed=False is deprecated and will be changed to True in a future version of pandas. Pass observed=False to retain current behavior or observed=True to adopt the future default and silence this warning.\n",
      "  obesity_age = df[df['BMI_Category'] == 'Obese'].groupby('age_group').size() / df.groupby('age_group').size()\n"
     ]
    },
    {
     "data": {
      "text/plain": [
       "(gender\n",
       " f    0.201802\n",
       " m    0.213815\n",
       " dtype: float64,\n",
       " age_group\n",
       " <30      0.149768\n",
       " 30-50    0.227906\n",
       " >50      0.222543\n",
       " dtype: float64)"
      ]
     },
     "execution_count": 99,
     "metadata": {},
     "output_type": "execute_result"
    }
   ],
   "source": [
    "import pandas as pd\n",
    "\n",
    "# Giả sử df là DataFrame chứa dữ liệu của bạn\n",
    "# Tính chỉ số BMI cho mỗi người\n",
    "df['BMI'] = df['weight'].astype(float) / (df['height'].astype(float) / 100) ** 2\n",
    "\n",
    "# Phân loại mức BMI theo tiêu chuẩn CDC\n",
    "def classify_bmi(bmi):\n",
    "    if bmi < 18.5:\n",
    "        return 'Underweight'\n",
    "    elif 18.5 <= bmi < 24.9:\n",
    "        return 'Normal weight'\n",
    "    elif 25.0 <= bmi < 29.9:\n",
    "        return 'Overweight'\n",
    "    else:\n",
    "        return 'Obese'\n",
    "\n",
    "df['BMI_Category'] = df['BMI'].apply(classify_bmi)\n",
    "\n",
    "# Tính tỉ lệ béo phì (BMI >= 30) theo giới tính\n",
    "obesity_gender = df[df['BMI_Category'] == 'Obese'].groupby('gender').size() / df.groupby('gender').size()\n",
    "\n",
    "# Tính tỉ lệ béo phì theo nhóm tuổi (tuổi được chia làm các khoảng, ví dụ: <30, 30-50, >50)\n",
    "bins = [0, 30, 50, 100]  # chia độ tuổi thành các nhóm\n",
    "labels = ['<30', '30-50', '>50']\n",
    "df['age_group'] = pd.cut(df['age'], bins=bins, labels=labels)\n",
    "\n",
    "# Tính tỉ lệ béo phì theo độ tuổi\n",
    "obesity_age = df[df['BMI_Category'] == 'Obese'].groupby('age_group').size() / df.groupby('age_group').size()\n",
    "\n",
    "# Kết quả\n",
    "obesity_gender, obesity_age\n"
   ]
  },
  {
   "cell_type": "markdown",
   "metadata": {},
   "source": [
    "---"
   ]
  }
 ],
 "metadata": {
  "kernelspec": {
   "display_name": "Python 3",
   "language": "python",
   "name": "python3"
  },
  "language_info": {
   "codemirror_mode": {
    "name": "ipython",
    "version": 3
   },
   "file_extension": ".py",
   "mimetype": "text/x-python",
   "name": "python",
   "nbconvert_exporter": "python",
   "pygments_lexer": "ipython3",
   "version": "3.10.11"
  }
 },
 "nbformat": 4,
 "nbformat_minor": 2
}
