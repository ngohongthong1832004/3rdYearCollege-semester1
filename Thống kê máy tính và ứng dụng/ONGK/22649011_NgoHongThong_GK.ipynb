{
 "cells": [
  {
   "cell_type": "code",
   "execution_count": 53,
   "metadata": {},
   "outputs": [],
   "source": [
    "import pandas as pd\n",
    "import matplotlib.pyplot as plt\n",
    "import seaborn as sns\n",
    "import scipy.stats as stats"
   ]
  },
  {
   "cell_type": "markdown",
   "metadata": {},
   "source": [
    "KHẢO SÁT DỮ LIỆU VỀ MỨC ĐỘ CÁC PHẢN HỒI CỦA HÀNH KHÁCH ĐỐI VỚI CÁC HÃNG MÁY BAY\n",
    "Dữ liệu TwitterUSAirlineSentiment.csv bao gồm các cột.\n",
    "- airline_sentiment: Các mức độ phản hồi (positive, neutral, negative)\n",
    "- airline_sentiment_confidence: đô tin cậy của phản hồi\n",
    "- negativereason_confidence: độ tin cậy của lý do phủ định\n",
    "- airline: Hãng máy bay (Virgin America, United, Southwest, Delta, US Airways, American)\n",
    "- name: tên của hành khách phản hồi\n",
    "- text: phản hồi dạng chữ\n",
    "- user_timezone: múi giờ\n",
    "\n",
    "Yêu cầu:\n",
    "1.\t(1 điểm) Đọc dữ liệu và hiển thị 10 dòng dữ liệu đầu tiên\n",
    "2.\t(3 điểm) Tìm hiểu thông tin về dữ liệu:\n",
    "- a.\tSố lượng phản hồi của mỗi hãng máy bay và số lượng phản hồi mỗi mức độ của từng hãng máy bay.\n",
    "- b.\tVới mỗi mức độ phản hồi của từng hãng máy bay, hãy xác định các tham số thống kê: giá trị trung bình, độ lệch chuẩn của các thuộc tính đô tin cậy của phản hồi (airline_sentiment_confidence), độ tin cậy của lý do phủ định (negativereason_confidence); và độ đo xu hướng tập trung (central tendency) của thuộc tính múi giờ (user_timezone).\n",
    "3.\t (3 điểm) Đồ thị hóa dữ liệu:\n",
    "- a.\tSố lượng phản hồi của mỗi hãng máy bay bằng đồ thị tròn.\n",
    "- b.\tBằng đồ thị hộp râu (box plot) biểu diễn trực quan về cách dữ liệu của  thuộc tính đô tin cậy của phản hồi (airline_sentiment_confidence) theo hãng hàng không nằm rải rác trên mặt phẳng, so sánh giữa các mức độ phản hồi.\n",
    " \n",
    "- c.\tBằng đồ thị phù hợp biểu diễn sự tương quan bằng màu sắc giữa các thuộc tính dựa trên hệ số tương quan. \n",
    "4.\t(3 điểm) Đường kính của một loại chi tiết do một máy sản xuất có phân phối chuẩn, kỳ vọng 20mm, độ lệch chuẩn 0,2mm). Lấy ngẫu nhiên 1 chi tiết máy. Tính xác suất để\n",
    "- a.\tcó đường kính nhỏ hơn 20,3mm\n",
    "- b.\tcó đường kính trong khoảng 19,9mm đến 20,3mm,\n",
    "- c.\tcó đường kính sai khác với kỳ vọng không quá 0,3mm.\n"
   ]
  },
  {
   "cell_type": "markdown",
   "metadata": {},
   "source": [
    "## Câu 1: "
   ]
  },
  {
   "cell_type": "code",
   "execution_count": 64,
   "metadata": {},
   "outputs": [
    {
     "data": {
      "text/html": [
       "<div>\n",
       "<style scoped>\n",
       "    .dataframe tbody tr th:only-of-type {\n",
       "        vertical-align: middle;\n",
       "    }\n",
       "\n",
       "    .dataframe tbody tr th {\n",
       "        vertical-align: top;\n",
       "    }\n",
       "\n",
       "    .dataframe thead th {\n",
       "        text-align: right;\n",
       "    }\n",
       "</style>\n",
       "<table border=\"1\" class=\"dataframe\">\n",
       "  <thead>\n",
       "    <tr style=\"text-align: right;\">\n",
       "      <th></th>\n",
       "      <th>tweet_id</th>\n",
       "      <th>airline_sentiment</th>\n",
       "      <th>airline_sentiment_confidence</th>\n",
       "      <th>negativereason</th>\n",
       "      <th>negativereason_confidence</th>\n",
       "      <th>airline</th>\n",
       "      <th>airline_sentiment_gold</th>\n",
       "      <th>name</th>\n",
       "      <th>negativereason_gold</th>\n",
       "      <th>retweet_count</th>\n",
       "      <th>text</th>\n",
       "      <th>tweet_coord</th>\n",
       "      <th>tweet_created</th>\n",
       "      <th>tweet_location</th>\n",
       "      <th>user_timezone</th>\n",
       "    </tr>\n",
       "  </thead>\n",
       "  <tbody>\n",
       "    <tr>\n",
       "      <th>0</th>\n",
       "      <td>5.703060e+17</td>\n",
       "      <td>neutral</td>\n",
       "      <td>1.0000</td>\n",
       "      <td>NaN</td>\n",
       "      <td>NaN</td>\n",
       "      <td>Virgin America</td>\n",
       "      <td>NaN</td>\n",
       "      <td>cairdin</td>\n",
       "      <td>NaN</td>\n",
       "      <td>0</td>\n",
       "      <td>@VirginAmerica What @dhepburn said.</td>\n",
       "      <td>NaN</td>\n",
       "      <td>24/2/2015 11:35</td>\n",
       "      <td>NaN</td>\n",
       "      <td>Eastern Time (US &amp; Canada)</td>\n",
       "    </tr>\n",
       "    <tr>\n",
       "      <th>1</th>\n",
       "      <td>5.703010e+17</td>\n",
       "      <td>positive</td>\n",
       "      <td>0.3486</td>\n",
       "      <td>NaN</td>\n",
       "      <td>0.0000</td>\n",
       "      <td>Virgin America</td>\n",
       "      <td>NaN</td>\n",
       "      <td>jnardino</td>\n",
       "      <td>NaN</td>\n",
       "      <td>0</td>\n",
       "      <td>@VirginAmerica plus you've added commercials t...</td>\n",
       "      <td>NaN</td>\n",
       "      <td>24/2/2015 11:15</td>\n",
       "      <td>NaN</td>\n",
       "      <td>Pacific Time (US &amp; Canada)</td>\n",
       "    </tr>\n",
       "    <tr>\n",
       "      <th>2</th>\n",
       "      <td>5.703010e+17</td>\n",
       "      <td>neutral</td>\n",
       "      <td>0.6837</td>\n",
       "      <td>NaN</td>\n",
       "      <td>NaN</td>\n",
       "      <td>Virgin America</td>\n",
       "      <td>NaN</td>\n",
       "      <td>yvonnalynn</td>\n",
       "      <td>NaN</td>\n",
       "      <td>0</td>\n",
       "      <td>@VirginAmerica I didn't today... Must mean I n...</td>\n",
       "      <td>NaN</td>\n",
       "      <td>24/2/2015 11:15</td>\n",
       "      <td>Lets Play</td>\n",
       "      <td>Central Time (US &amp; Canada)</td>\n",
       "    </tr>\n",
       "    <tr>\n",
       "      <th>3</th>\n",
       "      <td>5.703010e+17</td>\n",
       "      <td>negative</td>\n",
       "      <td>1.0000</td>\n",
       "      <td>Bad Flight</td>\n",
       "      <td>0.7033</td>\n",
       "      <td>Virgin America</td>\n",
       "      <td>NaN</td>\n",
       "      <td>jnardino</td>\n",
       "      <td>NaN</td>\n",
       "      <td>0</td>\n",
       "      <td>@VirginAmerica it's really aggressive to blast...</td>\n",
       "      <td>NaN</td>\n",
       "      <td>24/2/2015 11:15</td>\n",
       "      <td>NaN</td>\n",
       "      <td>Pacific Time (US &amp; Canada)</td>\n",
       "    </tr>\n",
       "    <tr>\n",
       "      <th>4</th>\n",
       "      <td>5.703010e+17</td>\n",
       "      <td>negative</td>\n",
       "      <td>1.0000</td>\n",
       "      <td>Can't Tell</td>\n",
       "      <td>1.0000</td>\n",
       "      <td>Virgin America</td>\n",
       "      <td>NaN</td>\n",
       "      <td>jnardino</td>\n",
       "      <td>NaN</td>\n",
       "      <td>0</td>\n",
       "      <td>@VirginAmerica and it's a really big bad thing...</td>\n",
       "      <td>NaN</td>\n",
       "      <td>24/2/2015 11:14</td>\n",
       "      <td>NaN</td>\n",
       "      <td>Pacific Time (US &amp; Canada)</td>\n",
       "    </tr>\n",
       "    <tr>\n",
       "      <th>5</th>\n",
       "      <td>5.703010e+17</td>\n",
       "      <td>negative</td>\n",
       "      <td>1.0000</td>\n",
       "      <td>Can't Tell</td>\n",
       "      <td>0.6842</td>\n",
       "      <td>Virgin America</td>\n",
       "      <td>NaN</td>\n",
       "      <td>jnardino</td>\n",
       "      <td>NaN</td>\n",
       "      <td>0</td>\n",
       "      <td>@VirginAmerica seriously would pay $30 a fligh...</td>\n",
       "      <td>NaN</td>\n",
       "      <td>24/2/2015 11:14</td>\n",
       "      <td>NaN</td>\n",
       "      <td>Pacific Time (US &amp; Canada)</td>\n",
       "    </tr>\n",
       "    <tr>\n",
       "      <th>6</th>\n",
       "      <td>5.703010e+17</td>\n",
       "      <td>positive</td>\n",
       "      <td>0.6745</td>\n",
       "      <td>NaN</td>\n",
       "      <td>0.0000</td>\n",
       "      <td>Virgin America</td>\n",
       "      <td>NaN</td>\n",
       "      <td>cjmcginnis</td>\n",
       "      <td>NaN</td>\n",
       "      <td>0</td>\n",
       "      <td>@VirginAmerica yes, nearly every time I fly VX...</td>\n",
       "      <td>NaN</td>\n",
       "      <td>24/2/2015 11:13</td>\n",
       "      <td>San Francisco CA</td>\n",
       "      <td>Pacific Time (US &amp; Canada)</td>\n",
       "    </tr>\n",
       "    <tr>\n",
       "      <th>7</th>\n",
       "      <td>5.703000e+17</td>\n",
       "      <td>neutral</td>\n",
       "      <td>0.6340</td>\n",
       "      <td>NaN</td>\n",
       "      <td>NaN</td>\n",
       "      <td>Virgin America</td>\n",
       "      <td>NaN</td>\n",
       "      <td>pilot</td>\n",
       "      <td>NaN</td>\n",
       "      <td>0</td>\n",
       "      <td>@VirginAmerica Really missed a prime opportuni...</td>\n",
       "      <td>NaN</td>\n",
       "      <td>24/2/2015 11:12</td>\n",
       "      <td>Los Angeles</td>\n",
       "      <td>Pacific Time (US &amp; Canada)</td>\n",
       "    </tr>\n",
       "    <tr>\n",
       "      <th>8</th>\n",
       "      <td>5.703000e+17</td>\n",
       "      <td>positive</td>\n",
       "      <td>0.6559</td>\n",
       "      <td>NaN</td>\n",
       "      <td>NaN</td>\n",
       "      <td>Virgin America</td>\n",
       "      <td>NaN</td>\n",
       "      <td>dhepburn</td>\n",
       "      <td>NaN</td>\n",
       "      <td>0</td>\n",
       "      <td>@virginamerica Well, I didn't…but NOW I DO! :-D</td>\n",
       "      <td>NaN</td>\n",
       "      <td>24/2/2015 11:11</td>\n",
       "      <td>San Diego</td>\n",
       "      <td>Pacific Time (US &amp; Canada)</td>\n",
       "    </tr>\n",
       "    <tr>\n",
       "      <th>9</th>\n",
       "      <td>5.702950e+17</td>\n",
       "      <td>positive</td>\n",
       "      <td>1.0000</td>\n",
       "      <td>NaN</td>\n",
       "      <td>NaN</td>\n",
       "      <td>Virgin America</td>\n",
       "      <td>NaN</td>\n",
       "      <td>YupitsTate</td>\n",
       "      <td>NaN</td>\n",
       "      <td>0</td>\n",
       "      <td>@VirginAmerica it was amazing, and arrived an ...</td>\n",
       "      <td>NaN</td>\n",
       "      <td>24/2/2015 10:53</td>\n",
       "      <td>Los Angeles</td>\n",
       "      <td>Eastern Time (US &amp; Canada)</td>\n",
       "    </tr>\n",
       "  </tbody>\n",
       "</table>\n",
       "</div>"
      ],
      "text/plain": [
       "       tweet_id airline_sentiment  airline_sentiment_confidence  \\\n",
       "0  5.703060e+17           neutral                        1.0000   \n",
       "1  5.703010e+17          positive                        0.3486   \n",
       "2  5.703010e+17           neutral                        0.6837   \n",
       "3  5.703010e+17          negative                        1.0000   \n",
       "4  5.703010e+17          negative                        1.0000   \n",
       "5  5.703010e+17          negative                        1.0000   \n",
       "6  5.703010e+17          positive                        0.6745   \n",
       "7  5.703000e+17           neutral                        0.6340   \n",
       "8  5.703000e+17          positive                        0.6559   \n",
       "9  5.702950e+17          positive                        1.0000   \n",
       "\n",
       "  negativereason  negativereason_confidence         airline  \\\n",
       "0            NaN                        NaN  Virgin America   \n",
       "1            NaN                     0.0000  Virgin America   \n",
       "2            NaN                        NaN  Virgin America   \n",
       "3     Bad Flight                     0.7033  Virgin America   \n",
       "4     Can't Tell                     1.0000  Virgin America   \n",
       "5     Can't Tell                     0.6842  Virgin America   \n",
       "6            NaN                     0.0000  Virgin America   \n",
       "7            NaN                        NaN  Virgin America   \n",
       "8            NaN                        NaN  Virgin America   \n",
       "9            NaN                        NaN  Virgin America   \n",
       "\n",
       "  airline_sentiment_gold        name negativereason_gold  retweet_count  \\\n",
       "0                    NaN     cairdin                 NaN              0   \n",
       "1                    NaN    jnardino                 NaN              0   \n",
       "2                    NaN  yvonnalynn                 NaN              0   \n",
       "3                    NaN    jnardino                 NaN              0   \n",
       "4                    NaN    jnardino                 NaN              0   \n",
       "5                    NaN    jnardino                 NaN              0   \n",
       "6                    NaN  cjmcginnis                 NaN              0   \n",
       "7                    NaN       pilot                 NaN              0   \n",
       "8                    NaN    dhepburn                 NaN              0   \n",
       "9                    NaN  YupitsTate                 NaN              0   \n",
       "\n",
       "                                                text tweet_coord  \\\n",
       "0                @VirginAmerica What @dhepburn said.         NaN   \n",
       "1  @VirginAmerica plus you've added commercials t...         NaN   \n",
       "2  @VirginAmerica I didn't today... Must mean I n...         NaN   \n",
       "3  @VirginAmerica it's really aggressive to blast...         NaN   \n",
       "4  @VirginAmerica and it's a really big bad thing...         NaN   \n",
       "5  @VirginAmerica seriously would pay $30 a fligh...         NaN   \n",
       "6  @VirginAmerica yes, nearly every time I fly VX...         NaN   \n",
       "7  @VirginAmerica Really missed a prime opportuni...         NaN   \n",
       "8    @virginamerica Well, I didn't…but NOW I DO! :-D         NaN   \n",
       "9  @VirginAmerica it was amazing, and arrived an ...         NaN   \n",
       "\n",
       "     tweet_created    tweet_location               user_timezone  \n",
       "0  24/2/2015 11:35               NaN  Eastern Time (US & Canada)  \n",
       "1  24/2/2015 11:15               NaN  Pacific Time (US & Canada)  \n",
       "2  24/2/2015 11:15         Lets Play  Central Time (US & Canada)  \n",
       "3  24/2/2015 11:15               NaN  Pacific Time (US & Canada)  \n",
       "4  24/2/2015 11:14               NaN  Pacific Time (US & Canada)  \n",
       "5  24/2/2015 11:14               NaN  Pacific Time (US & Canada)  \n",
       "6  24/2/2015 11:13  San Francisco CA  Pacific Time (US & Canada)  \n",
       "7  24/2/2015 11:12       Los Angeles  Pacific Time (US & Canada)  \n",
       "8  24/2/2015 11:11         San Diego  Pacific Time (US & Canada)  \n",
       "9  24/2/2015 10:53       Los Angeles  Eastern Time (US & Canada)  "
      ]
     },
     "execution_count": 64,
     "metadata": {},
     "output_type": "execute_result"
    }
   ],
   "source": [
    "# đọc dữ liệu và in 10 dòng\n",
    "df = pd.read_csv(\"TwitterUSAirlineSentiment.csv\")\n",
    "df.head(10)"
   ]
  },
  {
   "cell_type": "markdown",
   "metadata": {},
   "source": [
    "## Câu 2:"
   ]
  },
  {
   "cell_type": "code",
   "execution_count": 55,
   "metadata": {},
   "outputs": [
    {
     "name": "stdout",
     "output_type": "stream",
     "text": [
      "Số lượng phản hồi của mỗi hãng máy bay :\n",
      "United            3822\n",
      "US Airways        2913\n",
      "American          2759\n",
      "Southwest         2420\n",
      "Delta             2222\n",
      "Virgin America     504\n",
      "Name: airline, dtype: int64\n",
      "Số lượng phản hòi mỗi mức độ của từng hãng máy bay\n",
      "           airline airline_sentiment  counts\n",
      "0         American          negative    1960\n",
      "1         American           neutral     463\n",
      "2         American          positive     336\n",
      "3            Delta          negative     955\n",
      "4            Delta           neutral     723\n",
      "5            Delta          positive     544\n",
      "6        Southwest          negative    1186\n",
      "7        Southwest           neutral     664\n",
      "8        Southwest          positive     570\n",
      "9       US Airways          negative    2263\n",
      "10      US Airways           neutral     381\n",
      "11      US Airways          positive     269\n",
      "12          United          negative    2633\n",
      "13          United           neutral     697\n",
      "14          United          positive     492\n",
      "15  Virgin America          negative     181\n",
      "16  Virgin America           neutral     171\n",
      "17  Virgin America          positive     152\n"
     ]
    }
   ],
   "source": [
    "# a) Số lượng phản hồi của mỗi hãng máy bay và số lượng phản hồi mỗi mức độ của từng hãng máy bay.\n",
    "airline_counts = df[\"airline\"].value_counts()\n",
    "print(\"Số lượng phản hồi của mỗi hãng máy bay :\")\n",
    "print(airline_counts)\n",
    "\n",
    "airline_sentiment_counts = df.groupby([\"airline\", \"airline_sentiment\"]).size().reset_index(name=\"counts\")\n",
    "print(\"Số lượng phản hòi mỗi mức độ của từng hãng máy bay\")\n",
    "print(airline_sentiment_counts)"
   ]
  },
  {
   "cell_type": "code",
   "execution_count": 56,
   "metadata": {},
   "outputs": [
    {
     "name": "stdout",
     "output_type": "stream",
     "text": [
      "Thống kê các tham số:\n",
      "           airline airline_sentiment airline_sentiment_confidence            \\\n",
      "                                                             mean       std   \n",
      "0         American          negative                     0.944955  0.124992   \n",
      "1         American           neutral                     0.825938  0.186387   \n",
      "2         American          positive                     0.882302  0.169425   \n",
      "3            Delta          negative                     0.902202  0.162831   \n",
      "4            Delta           neutral                     0.829264  0.185266   \n",
      "5            Delta          positive                     0.867111  0.177139   \n",
      "6        Southwest          negative                     0.920533  0.147741   \n",
      "7        Southwest           neutral                     0.826109  0.186759   \n",
      "8        Southwest          positive                     0.886105  0.173846   \n",
      "9       US Airways          negative                     0.945714  0.126575   \n",
      "10      US Airways           neutral                     0.821922  0.187339   \n",
      "11      US Airways          positive                     0.859686  0.191301   \n",
      "12          United          negative                     0.933383  0.138631   \n",
      "13          United           neutral                     0.809756  0.184240   \n",
      "14          United          positive                     0.856012  0.188985   \n",
      "15  Virgin America          negative                     0.901733  0.158833   \n",
      "16  Virgin America           neutral                     0.838368  0.181370   \n",
      "17  Virgin America          positive                     0.887978  0.173069   \n",
      "\n",
      "   negativereason_confidence            \n",
      "                        mean       std  \n",
      "0                   0.744644  0.235690  \n",
      "1                   0.000000  0.000000  \n",
      "2                   0.000000  0.000000  \n",
      "3                   0.710520  0.240584  \n",
      "4                   0.000000  0.000000  \n",
      "5                   0.000000  0.000000  \n",
      "6                   0.732866  0.236287  \n",
      "7                   0.000000  0.000000  \n",
      "8                   0.000000  0.000000  \n",
      "9                   0.750028  0.237247  \n",
      "10                  0.000000  0.000000  \n",
      "11                  0.000000  0.000000  \n",
      "12                  0.714719  0.240164  \n",
      "13                  0.000000  0.000000  \n",
      "14                  0.000000  0.000000  \n",
      "15                  0.717003  0.228287  \n",
      "16                  0.000000  0.000000  \n",
      "17                  0.000000  0.000000  \n"
     ]
    }
   ],
   "source": [
    "# b)\n",
    "## xác định các tham số thông kê theo mean và std\n",
    "confident_stats = df.groupby([\"airline\", \"airline_sentiment\"]).agg({\n",
    "    \"airline_sentiment_confidence\" : [\"mean\", \"std\"],\n",
    "    \"negativereason_confidence\" : [\"mean\", \"std\"]\n",
    "}).reset_index()\n",
    "\n",
    "print(\"Thống kê các tham số:\")\n",
    "print(confident_stats)"
   ]
  },
  {
   "cell_type": "code",
   "execution_count": 57,
   "metadata": {},
   "outputs": [
    {
     "name": "stdout",
     "output_type": "stream",
     "text": [
      "Độ đo xu hướng tập chung của thuộc tính\n",
      "Eastern Time (US & Canada)\n"
     ]
    }
   ],
   "source": [
    "## độ đo xu hướng tập trung  của user_timezone\n",
    "timezone_central_tendency = df[\"user_timezone\"].mode()[0]\n",
    "print(\"Độ đo xu hướng tập chung của thuộc tính\")\n",
    "print(timezone_central_tendency)"
   ]
  },
  {
   "cell_type": "markdown",
   "metadata": {},
   "source": [
    "## Câu 3:"
   ]
  },
  {
   "cell_type": "code",
   "execution_count": 58,
   "metadata": {},
   "outputs": [
    {
     "data": {
      "image/png": "[encoded data removed]",
      "text/plain": [
       "<Figure size 720x432 with 1 Axes>"
      ]
     },
     "metadata": {},
     "output_type": "display_data"
    }
   ],
   "source": [
    "# a) Số lượng phản hồi của mỗi hãng máy bay bằng đồ thị tròn\n",
    "plt.figure(figsize=(10, 6))\n",
    "plt.pie(airline_counts, labels=airline_counts.index, autopct='%1.1f%%')\n",
    "plt.title(\"Số lượng phản hồi cua mỗi máy bay\")\n",
    "plt.show()"
   ]
  },
  {
   "cell_type": "code",
   "execution_count": 59,
   "metadata": {},
   "outputs": [
    {
     "data": {
      "image/png": "[encoded data removed]",
      "text/plain": [
       "<Figure size 720x432 with 1 Axes>"
      ]
     },
     "metadata": {
      "needs_background": "light"
     },
     "output_type": "display_data"
    }
   ],
   "source": [
    "# b) Bằng đồ thị hộp râu (box plot) biểu diễn trực quan về cách dữ liệu của  thuộc tính đô tin cậy của phản hồi\n",
    "plt.figure(figsize=(10,6))\n",
    "sns.boxplot(x=\"airline\", y=\"airline_sentiment_confidence\", hue=\"airline_sentiment\", data=df)\n",
    "plt.title(\"Độ tin cậy phản hồi theo hãng máy bay về mức độ phản hồi\")\n",
    "plt.show()"
   ]
  },
  {
   "cell_type": "code",
   "execution_count": 60,
   "metadata": {},
   "outputs": [
    {
     "data": {
      "image/png": "[encoded data removed]",
      "text/plain": [
       "<Figure size 720x432 with 2 Axes>"
      ]
     },
     "metadata": {
      "needs_background": "light"
     },
     "output_type": "display_data"
    }
   ],
   "source": [
    "## c) Bằng đồ thị phù hợp biểu diễn sự tương quan bằng màu sắc giữa các thuộc tính dựa trên hệ số tương quan. \n",
    "correlation_matrix = df[[\"airline_sentiment_confidence\", \"negativereason_confidence\"]].corr()\n",
    "plt.figure(figsize=(10, 6))\n",
    "sns.heatmap(correlation_matrix, annot=True, cmap=\"plasma_r\")\n",
    "plt.title(\"Ma trận tương quan giữa các thuộc tính\")\n",
    "plt.show()"
   ]
  },
  {
   "cell_type": "markdown",
   "metadata": {},
   "source": [
    "# Câu 4:"
   ]
  },
  {
   "cell_type": "code",
   "execution_count": 61,
   "metadata": {},
   "outputs": [
    {
     "name": "stdout",
     "output_type": "stream",
     "text": [
      "Xác suất để đường kính nhỏ hơn 20.3mm là : 0.9331927987311424\n"
     ]
    }
   ],
   "source": [
    "mean = 20\n",
    "std = 0.2\n",
    "\n",
    "\n",
    "# a) có đường kính nhỏ hơn 20,3mm \n",
    "prob_less_203 = stats.norm.cdf(20.3, mean, std)\n",
    "print(\"Xác suất để đường kính nhỏ hơn 20.3mm là :\", prob_less_203)"
   ]
  },
  {
   "cell_type": "code",
   "execution_count": 62,
   "metadata": {},
   "outputs": [
    {
     "name": "stdout",
     "output_type": "stream",
     "text": [
      "Xác suát để đường kính trong khoảng 19.9 đé 20.3 là :  0.624655260005158\n"
     ]
    }
   ],
   "source": [
    "# b) có đường kính trong khoảng 19,9mm đến 20,3mm,\n",
    "pro_bet_199_and_203 = stats.norm.cdf(20.3, mean, std) - stats.norm.cdf(19.9, mean, std)\n",
    "print(\"Xác suát để đường kính trong khoảng 19.9 đé 20.3 là : \", pro_bet_199_and_203)"
   ]
  },
  {
   "cell_type": "code",
   "execution_count": 63,
   "metadata": {},
   "outputs": [
    {
     "name": "stdout",
     "output_type": "stream",
     "text": [
      "Xác suất để đường kính k sai khác với kỳ vọng không quá 0.3 là :  0.8663855974622847\n"
     ]
    }
   ],
   "source": [
    "# c) có đường kính sai khác với kỳ vọng không quá 0,3mm\n",
    "pro_within_03 = stats.norm.cdf(20.3, mean, std) - stats.norm.cdf(19.7, mean, std)\n",
    "print(\"Xác suất để đường kính k sai khác với kỳ vọng không quá 0.3 là : \", pro_within_03)"
   ]
  },
  {
   "cell_type": "code",
   "execution_count": null,
   "metadata": {},
   "outputs": [],
   "source": []
  },
  {
   "cell_type": "code",
   "execution_count": null,
   "metadata": {},
   "outputs": [],
   "source": []
  }
 ],
 "metadata": {
  "kernelspec": {
   "display_name": "Python 3",
   "language": "python",
   "name": "python3"
  },
  "language_info": {
   "codemirror_mode": {
    "name": "ipython",
    "version": 3
   },
   "file_extension": ".py",
   "mimetype": "text/x-python",
   "name": "python",
   "nbconvert_exporter": "python",
   "pygments_lexer": "ipython3",
   "version": "3.8.5"
  }
 },
 "nbformat": 4,
 "nbformat_minor": 4
}
