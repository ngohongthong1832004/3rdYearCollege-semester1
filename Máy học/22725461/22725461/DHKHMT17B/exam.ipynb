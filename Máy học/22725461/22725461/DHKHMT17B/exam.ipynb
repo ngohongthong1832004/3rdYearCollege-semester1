{
 "cells": [
  {
   "cell_type": "markdown",
   "id": "8f416143",
   "metadata": {},
   "source": [
    "# Mid-term Exam\n",
    "# Câu 1: (30 điểm, CLO 1)\n",
    "Trong cây quyết định, tiêu chí Entropy được sử dụng để:\n",
    "\n",
    " 1. Đo lường độ chính xác của mô hình.\n",
    " 2. Đo lường mức độ hỗn loạn hoặc không chắc chắn của một tập dữ liệu.\n",
    " 3. Đo kích thước của cây quyết định.\n",
    "\n",
    "# Hướng dẫn: Bạn trả lời bằng cách gán giá trị lựa chọn cho biến answer ở bên dưới."
   ]
  },
  {
   "cell_type": "code",
   "execution_count": null,
   "id": "bfb9b980",
   "metadata": {
    "deletable": false,
    "nbgrader": {
     "cell_type": "code",
     "checksum": "8bcfedfd7510c58a700eddc42cba6859",
     "grade": false,
     "grade_id": "answer_ques1",
     "locked": false,
     "schema_version": 3,
     "solution": true,
     "task": false
    }
   },
   "outputs": [],
   "source": [
    "# YOUR CODE HERE\n",
    "answer = 2\n",
    "# raise NotImplementedError()"
   ]
  },
  {
   "cell_type": "code",
   "execution_count": null,
   "id": "f69357f1",
   "metadata": {
    "deletable": false,
    "editable": false,
    "nbgrader": {
     "cell_type": "code",
     "checksum": "4c9ebd7c0e03a38824b848eca87360a2",
     "grade": true,
     "grade_id": "test_ques1",
     "locked": true,
     "points": 30,
     "schema_version": 3,
     "solution": false,
     "task": false
    }
   },
   "outputs": [],
   "source": []
  },
  {
   "cell_type": "markdown",
   "id": "3e3683a4",
   "metadata": {},
   "source": [
    "# Câu 2: (70 điểm, CLO2)\n",
    "Hiện thực theo yêu cầu.\n",
    "# Chú ý: Sinh viên có thể thêm các code cells để test code của mình viết tùy ý."
   ]
  },
  {
   "cell_type": "code",
   "execution_count": 2,
   "id": "209027e3",
   "metadata": {},
   "outputs": [],
   "source": [
    "import numpy as np\n",
    "import matplotlib.pyplot as plt\n",
    "import matplotlib.patches as mpatches\n",
    "import pandas as pd"
   ]
  },
  {
   "cell_type": "markdown",
   "id": "f2154f33",
   "metadata": {},
   "source": [
    "<a name=\"2\"></a>\n",
    "# Problem Statement\n",
    "\n",
    "You are analyzing data to predict whether individuals will default on their auto loans. The dataset includes:\n",
    "\n",
    "Age: The age of the borrower.\n",
    "\n",
    "Loan Amount: The amount of the auto loan.\n",
    "\n",
    "Vehicle Type: Whether the vehicle is new or used (New/Used).\n",
    "\n",
    "The target variable is whether the borrower will Default (Yes/No) on their auto loan. The task is to build a classification model to predict the default risk.\n",
    "\n",
    "\n",
    "<a name=\"3\"></a>\n",
    "# Question 1\n",
    "### Dataset\n",
    "\n",
    "You will start by loading the dataset for this task. Then you will convert it to training data using one-hot encoding using the following rule:\n",
    "\n",
    "If Age > 30, map to 1, Age < 30 map to 0\n",
    "\n",
    "If Loan amount > 10, map to 1, Loan amount < 10 map to 0\n",
    "\n",
    "Vehicle type (New, Used) map to (1,0).\n",
    "\n",
    "Target Default (Yes,No) map to (1,0)\n",
    "<img src=\"./images/dataset_3.png\"/>\n"
   ]
  },
  {
   "cell_type": "code",
   "execution_count": 3,
   "id": "ae7393b6",
   "metadata": {
    "deletable": false,
    "nbgrader": {
     "cell_type": "code",
     "checksum": "50ccfd4f454a9e9ca8a93873340cd51b",
     "grade": false,
     "grade_id": "answer_dataset",
     "locked": false,
     "schema_version": 3,
     "solution": true,
     "task": false
    }
   },
   "outputs": [
    {
     "data": {
      "text/plain": [
       "(array([[0, 0, 1],\n",
       "        [0, 0, 1],\n",
       "        [1, 0, 0],\n",
       "        [1, 1, 0],\n",
       "        [1, 0, 1],\n",
       "        [1, 0, 1],\n",
       "        [0, 1, 0],\n",
       "        [1, 1, 0],\n",
       "        [0, 0, 1],\n",
       "        [0, 1, 1]]),\n",
       " array([1, 1, 0, 0, 1, 0, 0, 1, 1, 0]))"
      ]
     },
     "execution_count": 3,
     "metadata": {},
     "output_type": "execute_result"
    }
   ],
   "source": [
    "# YOUR CODE HERE\n",
    "\n",
    "X_train = np.array([[20, 2, 'New', 'Yes'],\n",
    "                    [22, 3, 'New', 'Yes'],\n",
    "                    [31, 5, 'Used', 'No'],\n",
    "                    [33, 12, 'Used', 'No'],\n",
    "                    [40, 5, 'New', 'Yes'],\n",
    "                    [50, 8, 'New', 'No'],\n",
    "                    [25, 17, 'Used', 'No'],\n",
    "                    [32, 20, 'Used', 'Yes'],\n",
    "                    [19, 4, 'New', 'Yes'],\n",
    "                    [18, 19, 'New', 'No']], dtype=object)\n",
    "\n",
    "# Apply one-hot encoding rules\n",
    "encoded_X_train = np.array([\n",
    "    [1 if row[0] > 30 else 0,\n",
    "     1 if row[1] > 10 else 0,\n",
    "     1 if row[2] == 'New' else 0,\n",
    "     1 if row[3] == 'Yes' else 0]\n",
    "        for row in X_train\n",
    "])\n",
    "\n",
    "# Separate features and target\n",
    "X_train = encoded_X_train[:, :-1]\n",
    "y_train = encoded_X_train[:, -1]\n",
    "\n",
    "X_train, y_train"
   ]
  },
  {
   "cell_type": "code",
   "execution_count": 4,
   "id": "ebbce5c3",
   "metadata": {},
   "outputs": [],
   "source": [
    "age_sum = X_train[:,0].sum()\n",
    "loan_sum = X_train[:,1].sum()\n",
    "veh_sum = X_train[:,2].sum()\n",
    "default_sum = y_train.sum()"
   ]
  },
  {
   "cell_type": "code",
   "execution_count": 5,
   "id": "19885280",
   "metadata": {
    "deletable": false,
    "editable": false,
    "nbgrader": {
     "cell_type": "code",
     "checksum": "ec2db1964c07f981f5a278d1c350335d",
     "grade": true,
     "grade_id": "test_dataset",
     "locked": true,
     "points": 20,
     "schema_version": 3,
     "solution": false,
     "task": false
    }
   },
   "outputs": [
    {
     "data": {
      "text/plain": [
       "(5, 4, 6, 5)"
      ]
     },
     "execution_count": 5,
     "metadata": {},
     "output_type": "execute_result"
    }
   ],
   "source": [
    "age_sum, loan_sum, veh_sum, default_sum"
   ]
  },
  {
   "cell_type": "markdown",
   "id": "48c90dfb",
   "metadata": {},
   "source": [
    "<a name=\"4.1\"></a>\n",
    "### Calculate entropy\n",
    "\n",
    "First, you'll write a helper function called `compute_entropy` that computes the entropy (measure of impurity) at a node. \n",
    "- The function takes in a numpy array (`y`) that indicates whether the examples in that node are edible (`1`) or poisonous(`0`) \n",
    "\n",
    "Complete the `compute_entropy()` function below to:\n",
    "* Compute $p_1$, which is the fraction of examples that are edible (i.e. have value = `1` in `y`)\n",
    "* The entropy is then calculated as \n",
    "\n",
    "$$H(p_1) = -p_1 \\text{log}_2(p_1) - (1- p_1) \\text{log}_2(1- p_1)$$\n",
    "* Note \n",
    "    * The log is calculated with base $2$\n",
    "    * For implementation purposes, $0\\text{log}_2(0) = 0$. That is, if `p_1 = 0` or `p_1 = 1`, set the entropy to `0`\n",
    "    * Make sure to check that the data at a node is not empty (i.e. `len(y) != 0`). Return `0` if it is\n",
    "    \n",
    "# Question 2\n",
    "Please complete the `compute_entropy()` function using the previous instructions."
   ]
  },
  {
   "cell_type": "code",
   "execution_count": 3,
   "id": "acfeb1dc",
   "metadata": {
    "deletable": false,
    "nbgrader": {
     "cell_type": "code",
     "checksum": "837c62abab3d257b69f7eb1f7e418ee2",
     "grade": false,
     "grade_id": "answer_entropy",
     "locked": false,
     "schema_version": 3,
     "solution": true,
     "task": false
    }
   },
   "outputs": [],
   "source": [
    "# UNQ_C1\n",
    "# GRADED FUNCTION: compute_entropy\n",
    "\n",
    "\n",
    "def compute_entropy(y):\n",
    "    \"\"\"\n",
    "    Computes the entropy for\n",
    "\n",
    "    Args:\n",
    "       y (ndarray): Numpy array indicating whether each example at a node is\n",
    "           edible (`1`) or poisonous (`0`)\n",
    "\n",
    "    Returns:\n",
    "        entropy (float): Entropy at that node\n",
    "\n",
    "    \"\"\"\n",
    "    # You need to return the following variables correctly\n",
    "    entropy = 0.0\n",
    "\n",
    "    # YOUR CODE HERE\n",
    "    if len(y) != 0:\n",
    "        p1= p1= len(y[y ==1 ]) / len (y)\n",
    "        if p1 != 0  and p1 != 1:\n",
    "            entropy = -p1 * np.log2(p1) - (1-p1) * np.log2(1-p1)\n",
    "        else:\n",
    "            entropy = 0 \n",
    "\n",
    "    return entropy"
   ]
  },
  {
   "cell_type": "markdown",
   "id": "7e03c415",
   "metadata": {},
   "source": [
    "<a name=\"4.2\"></a>\n",
    "# Question 3\n",
    "\n",
    "### Split dataset\n",
    "\n",
    "Next, you'll write a helper function called `split_dataset` that takes in the data at a node and a feature to split on and splits it into left and right branches.\n",
    "\n",
    "Please complete the `split_dataset()` function shown below\n",
    "\n",
    "- For each index in `node_indices`\n",
    "    - If the value of `X` at that index for that feature is `1`, add the index to `left_indices`\n",
    "    - If the value of `X` at that index for that feature is `0`, add the index to `right_indices`\n"
   ]
  },
  {
   "cell_type": "code",
   "execution_count": 6,
   "id": "c538e28a",
   "metadata": {
    "deletable": false,
    "nbgrader": {
     "cell_type": "code",
     "checksum": "b78fa4b4ad35f41253654d148c4ae49a",
     "grade": false,
     "grade_id": "answer_split",
     "locked": false,
     "schema_version": 3,
     "solution": true,
     "task": false
    }
   },
   "outputs": [],
   "source": [
    "# UNQ_C2\n",
    "# GRADED FUNCTION: split_dataset\n",
    "\n",
    "\n",
    "def split_dataset(X, node_indices, feature):\n",
    "    \"\"\"\n",
    "    Splits the data at the given node into\n",
    "    left and right branches\n",
    "\n",
    "    Args:\n",
    "        X (ndarray):             Data matrix of shape(n_samples, n_features)\n",
    "        node_indices (list):  List containing the active indices. I.e, the samples being considered at this step.\n",
    "        feature (int):           Index of feature to split on\n",
    "\n",
    "    Returns:\n",
    "        left_indices (list): Indices with feature value == 1\n",
    "        right_indices (list): Indices with feature value == 0\n",
    "    \"\"\"\n",
    "\n",
    "    # You need to return the following variables correctly\n",
    "    left_indices = []\n",
    "    right_indices = []\n",
    "\n",
    "    # YOUR CODE HERE\n",
    "    for i in node_indices:\n",
    "        if X[i][feature] == 1:\n",
    "            left_indices.append(i)\n",
    "        else:\n",
    "            right_indices.append(i)\n",
    "\n",
    "    return left_indices, right_indices"
   ]
  },
  {
   "cell_type": "code",
   "execution_count": 33,
   "id": "87f41a9d",
   "metadata": {
    "deletable": false,
    "editable": false,
    "nbgrader": {
     "cell_type": "code",
     "checksum": "d4de4bedbd10439784642e0a929a2452",
     "grade": true,
     "grade_id": "test_split",
     "locked": true,
     "points": 10,
     "schema_version": 3,
     "solution": false,
     "task": false
    }
   },
   "outputs": [],
   "source": []
  },
  {
   "cell_type": "markdown",
   "id": "04de9cda",
   "metadata": {},
   "source": [
    "<a name=\"4.3\"></a>\n",
    "# Question 4\n",
    "\n",
    "### Calculate information gain\n",
    "\n",
    "Next, you'll write a function called `information_gain` that takes in the training data, the indices at a node and a feature to split on and returns the information gain from the split.\n",
    "\n",
    "<a name=\"ex03\"></a>\n",
    "\n",
    "\n",
    "Please complete the `compute_information_gain()` function shown below to compute\n",
    "\n",
    "$$\\text{Information Gain} = H(p_1^\\text{node})- (w^{\\text{left}}H(p_1^\\text{left}) + w^{\\text{right}}H(p_1^\\text{right}))$$\n",
    "\n",
    "where \n",
    "- $H(p_1^\\text{node})$ is entropy at the node \n",
    "- $H(p_1^\\text{left})$ and $H(p_1^\\text{right})$ are the entropies at the left and the right branches resulting from the split\n",
    "- $w^{\\text{left}}$ and $w^{\\text{right}}$ are the proportion of examples at the left and right branch, respectively\n",
    "\n",
    "Note:\n",
    "- You can use the `compute_entropy()` function that you implemented above to calculate the entropy\n",
    "- We've provided some starter code that uses the `split_dataset()` function you implemented above to split the dataset \n",
    "\n",
    "If you get stuck, you can check out the hints presented after the cell below to help you with the implementation."
   ]
  },
  {
   "cell_type": "code",
   "execution_count": 5,
   "id": "7e022ff1",
   "metadata": {
    "deletable": false,
    "nbgrader": {
     "cell_type": "code",
     "checksum": "d9234e0f1325e6e6545b11d15c361955",
     "grade": false,
     "grade_id": "answer_info_gain",
     "locked": false,
     "schema_version": 3,
     "solution": true,
     "task": false
    }
   },
   "outputs": [],
   "source": [
    "# UNQ_C3\n",
    "# GRADED FUNCTION: compute_information_gain\n",
    "\n",
    "\n",
    "def compute_information_gain(X, y, node_indices, feature):\n",
    "    \"\"\"\n",
    "    Compute the information of splitting the node on a given feature\n",
    "\n",
    "    Args:\n",
    "        X (ndarray):            Data matrix of shape(n_samples, n_features)\n",
    "        y (array like):         list or ndarray with n_samples containing the target variable\n",
    "        node_indices (ndarray): List containing the active indices. I.e, the samples being considered in this step.\n",
    "\n",
    "    Returns:\n",
    "        cost (float):        Cost computed\n",
    "\n",
    "    \"\"\"\n",
    "    # Split dataset\n",
    "    left_indices, right_indices = split_dataset(X, node_indices, feature)\n",
    "\n",
    "    # Some useful variables\n",
    "    X_node, y_node = X[node_indices], y[node_indices]\n",
    "    X_left, y_left = X[left_indices], y[left_indices]\n",
    "    X_right, y_right = X[right_indices], y[right_indices]\n",
    "\n",
    "    # You need to return the following variables correctly\n",
    "    information_gain = 0\n",
    "\n",
    "    # YOUR CODE HERE\n",
    "    node_entropy = compute_entropy(y_node)\n",
    "    left_entropy = compute_entropy(y_left)\n",
    "    right_entropy = compute_entropy(y_right)\n",
    "\n",
    "    #weights\n",
    "    w_left = len(X_left) / len(X_node) \n",
    "    w_right = len(X_right) / len(X_node)\n",
    "\n",
    "    #weighted entropy\n",
    "    weighted_entropy = w_left * left_entropy + w_right * right_entropy\n",
    "\n",
    "    #information gain\n",
    "    information_gain = node_entropy - weighted_entropy\n",
    "\n",
    "    return information_gain"
   ]
  },
  {
   "cell_type": "code",
   "execution_count": null,
   "id": "9bb6fbaa",
   "metadata": {
    "deletable": false,
    "editable": false,
    "nbgrader": {
     "cell_type": "code",
     "checksum": "dbacaaba18874821a96ac22d922c1451",
     "grade": true,
     "grade_id": "test_info_gain",
     "locked": true,
     "points": 10,
     "schema_version": 3,
     "solution": false,
     "task": false
    }
   },
   "outputs": [],
   "source": []
  },
  {
   "cell_type": "markdown",
   "id": "6d9038d1",
   "metadata": {},
   "source": [
    "<a name=\"4.4\"></a>\n",
    "# Question 5\n",
    "### Get best split\n",
    "Now let's write a function to get the best feature to split on by computing the information gain from each feature as we did above and returning the feature that gives the maximum information gain\n",
    "\n",
    "Please complete the `get_best_split()` function shown below.\n",
    "- The function takes in the training data, along with the indices of datapoint at that node\n",
    "- The output of the function is the feature that gives the maximum information gain \n",
    "    - You can use the `compute_information_gain()` function to iterate through the features and calculate the information for each feature\n",
    "If you get stuck, you can check out the hints presented after the cell below to help you with the implementation."
   ]
  },
  {
   "cell_type": "code",
   "execution_count": 9,
   "id": "1d41267f",
   "metadata": {
    "deletable": false,
    "nbgrader": {
     "cell_type": "code",
     "checksum": "f73f953d73affb52e91d6ba82d53ebcb",
     "grade": false,
     "grade_id": "answer_best_split",
     "locked": false,
     "schema_version": 3,
     "solution": true,
     "task": false
    }
   },
   "outputs": [],
   "source": [
    "# UNQ_C4\n",
    "# GRADED FUNCTION: get_best_split\n",
    "\n",
    "\n",
    "def get_best_split(X, y, node_indices):\n",
    "    \"\"\"\n",
    "    Returns the optimal feature and threshold value\n",
    "    to split the node data\n",
    "\n",
    "    Args:\n",
    "        X (ndarray):            Data matrix of shape(n_samples, n_features)\n",
    "        y (array like):         list or ndarray with n_samples containing the target variable\n",
    "        node_indices (ndarray): List containing the active indices. I.e, the samples being considered in this step.\n",
    "\n",
    "    Returns:\n",
    "        best_feature (int):     The index of the best feature to split\n",
    "    \"\"\"\n",
    "\n",
    "    # Some useful variables\n",
    "    num_features = X.shape[1]\n",
    "\n",
    "    # You need to return the following variables correctly\n",
    "    best_feature = -1\n",
    "\n",
    "    # YOUR CODE HERE\n",
    "    max_info_gain = 0\n",
    "    for i in range(num_features):\n",
    "        info_gain = compute_information_gain(X, y, node_indices, i)\n",
    "        if info_gain > max_info_gain:\n",
    "            max_info_gain = info_gain\n",
    "            best_feature = i\n",
    "\n",
    "    return best_feature"
   ]
  },
  {
   "cell_type": "code",
   "execution_count": null,
   "id": "a4056247",
   "metadata": {
    "deletable": false,
    "editable": false,
    "nbgrader": {
     "cell_type": "code",
     "checksum": "a6d26c7c6ba83fe7d82941c9a5222b85",
     "grade": true,
     "grade_id": "test_best_split",
     "locked": true,
     "points": 10,
     "schema_version": 3,
     "solution": false,
     "task": false
    }
   },
   "outputs": [],
   "source": []
  }
 ],
 "metadata": {
  "kernelspec": {
   "display_name": "Python 3",
   "language": "python",
   "name": "python3"
  },
  "language_info": {
   "codemirror_mode": {
    "name": "ipython",
    "version": 3
   },
   "file_extension": ".py",
   "mimetype": "text/x-python",
   "name": "python",
   "nbconvert_exporter": "python",
   "pygments_lexer": "ipython3",
   "version": "3.10.11"
  }
 },
 "nbformat": 4,
 "nbformat_minor": 5
}
