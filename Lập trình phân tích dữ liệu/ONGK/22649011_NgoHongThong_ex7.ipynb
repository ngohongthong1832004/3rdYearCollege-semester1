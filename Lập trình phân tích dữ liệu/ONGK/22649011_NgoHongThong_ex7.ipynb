{
  "cells": [
    {
      "cell_type": "markdown",
      "metadata": {
        "id": "S_v8fk1y10c3"
      },
      "source": [
        "# Lab 07 - Bài tập"
      ]
    },
    {
      "cell_type": "markdown",
      "metadata": {
        "id": "U-9glVy410c5"
      },
      "source": [
        "## Luyện tập"
      ]
    },
    {
      "cell_type": "markdown",
      "metadata": {
        "id": "x4e03TWX10c7"
      },
      "source": [
        "### Bài 1\n",
        "\n",
        "Trong thập niên 80, trọng lượng trung bình của thanh niên là 48 kg. Nay để xác định lại trọng lượng ấy, người ta chọn ngẫu nhiên 100 thanh niên đo trọng lượng trung bình là 50 kg và phương sai mẫu $s^2 = (10 kg)^2$. Thử xem trọng lượng thanh niên hiện nay phải chăng có thay đổi, với mức ý nghĩa là 1%?\n",
        "\n",
        "   _Đáp án. Trọng lượng thanh niên hiện nay không thay đổi so với trước kia._"
      ]
    },
    {
      "cell_type": "markdown",
      "metadata": {
        "id": "kVc06PI010c_"
      },
      "source": [
        "Tóm tắt:\n",
        "- $\\mu_0 = 48$\n",
        "- $n = 100$\n",
        "- $\\alpha = 0.01$\n",
        "- $\\bar{x} = 50$\n",
        "- $s = 10$"
      ]
    },
    {
      "cell_type": "markdown",
      "metadata": {
        "id": "ZUtPKqfT10dA"
      },
      "source": [
        "Bước 1: $$H_0: \\mu = 48$$\n",
        "$$H_a: \\mu \\ne 48$$"
      ]
    },
    {
      "cell_type": "markdown",
      "metadata": {
        "id": "U-hAkp0F10dC"
      },
      "source": [
        "Bước 2: Mức ý nghĩa $\\alpha = 0.01$"
      ]
    },
    {
      "cell_type": "markdown",
      "metadata": {
        "id": "u3oPUznh10dE"
      },
      "source": [
        "Bước 3: $$t_0 = \\frac{\\bar{x} - \\mu_0}{\\frac{s}{\\sqrt{n}}} = 2$$"
      ]
    },
    {
      "cell_type": "code",
      "execution_count": null,
      "metadata": {
        "id": "1Gsq1yh-10dF",
        "outputId": "a4c6a5d6-7367-48e5-abef-2899b3610219"
      },
      "outputs": [
        {
          "data": {
            "text/plain": [
              "2.0"
            ]
          },
          "execution_count": 21,
          "metadata": {},
          "output_type": "execute_result"
        }
      ],
      "source": [
        "(50 - 48) / (10 / (100**0.5))"
      ]
    },
    {
      "cell_type": "markdown",
      "metadata": {
        "id": "U2Z_CkGS10dL"
      },
      "source": [
        "Bước 4: Xác định `miền bác bỏ`\n",
        "\n",
        "$$\\{ t: |t| > t^{n-1}_{\\alpha/2} \\}$$\n",
        "\n",
        "$$\\{ t: |t| > 2.626 \\}$$  "
      ]
    },
    {
      "cell_type": "code",
      "execution_count": null,
      "metadata": {
        "id": "TNE0dhxd10dM",
        "outputId": "86ee2c7e-2de0-4a57-dfde-5bf27d279212"
      },
      "outputs": [
        {
          "data": {
            "text/plain": [
              "2.6264"
            ]
          },
          "execution_count": 4,
          "metadata": {},
          "output_type": "execute_result"
        }
      ],
      "source": [
        "import scipy.stats as st\n",
        "alpha = 0.01\n",
        "st.t.isf(alpha/2, 100-1).round(4)"
      ]
    },
    {
      "cell_type": "markdown",
      "metadata": {
        "id": "NWmW62pp10dO"
      },
      "source": [
        "Bước 5: Đưa ra quyết định về giả thuyết vô hiệu. Rút ra kết luận chung:\n",
        "- Không bác bỏ giả thuyết $H_0$ (vì trị kiểm định không thuộc miền bác bỏ)\n",
        "- Trọng lượng thanh niên hiện nay không thay đổi so với trước kia"
      ]
    },
    {
      "cell_type": "markdown",
      "metadata": {
        "id": "yCoxNLBg10dP"
      },
      "source": [
        "### Bài 2\n",
        "\n",
        "Một cửa hàng thực phẩm nhận thấy thời gian vừa qua trung bình một khách hàng mua 25 ngàn đồng thực phẩm trong ngày. Nay cửa hàng chọn ngẫu nhiên 15 khách hàng thấy trung bình một khách hàng mua 24 ngàn đồng trong ngày và phương sai mẫu là $s^2$ =  (2 ngàn đồng $)^2$\n",
        "\n",
        "   Với mức ý nghĩa là 5%, kiểm định xem có phải sức mua của khách hàng hiện nay thực sự giảm sút hay không. Biết rằng sức mua của khách hàng có phân phối chuẩn.\n",
        "\n",
        "   _Đáp án. Sức mua của khách hàng hiện nay thực sự giảm sút_"
      ]
    },
    {
      "cell_type": "markdown",
      "metadata": {
        "id": "VmjfNkAz10dQ"
      },
      "source": [
        "Tóm tắt:\n",
        "- $\\mu_0 = 25$\n",
        "- $n = 15$\n",
        "- $\\bar{x} = 24$\n",
        "- $s = 2$\n",
        "- $\\alpha = 0.05$"
      ]
    },
    {
      "cell_type": "markdown",
      "metadata": {
        "id": "BPh2-b3K10dS"
      },
      "source": [
        "Bước 1: Xây dựng giả thuyết kiểm định\n",
        "$$H_0: \\mu >= 25$$\n",
        "$$H_a: \\mu < 25$$"
      ]
    },
    {
      "cell_type": "markdown",
      "metadata": {
        "id": "SgaslsDo10dS"
      },
      "source": [
        "Bước 2: Mức ý nghĩa $\\alpha = 0.05$"
      ]
    },
    {
      "cell_type": "markdown",
      "metadata": {
        "id": "f7D8ItW010dT"
      },
      "source": [
        "Bước 3: Tính giá trị kiểm định từ mẫu\n",
        "$$t_0 = \\dfrac{\\bar{x} - \\mu_0}{\\dfrac{s}{\\sqrt{n}}} \\approx -1.936$$"
      ]
    },
    {
      "cell_type": "code",
      "execution_count": null,
      "metadata": {
        "id": "09HQ2yDb10dX",
        "outputId": "940225ca-0223-4567-facd-eebe9566d20e"
      },
      "outputs": [
        {
          "data": {
            "text/plain": [
              "-1.9364916731037087"
            ]
          },
          "execution_count": 4,
          "metadata": {},
          "output_type": "execute_result"
        }
      ],
      "source": [
        "(24 - 25) / (2 / (15**0.5))"
      ]
    },
    {
      "cell_type": "markdown",
      "metadata": {
        "id": "J46ZAiXt10dY"
      },
      "source": [
        "Bước 4: Xác định `miền bác bỏ`\n",
        "\n",
        "$$\\{ t: |t| > t^{n-1}_{\\alpha} \\}$$\n",
        "\n",
        "$$\\{ t: |t| > 1.7613 \\}$$  "
      ]
    },
    {
      "cell_type": "code",
      "execution_count": null,
      "metadata": {
        "id": "tm6zG1IE10dZ",
        "outputId": "7e7d2951-8a8e-4c2b-9635-536a3d8a440a"
      },
      "outputs": [
        {
          "data": {
            "text/plain": [
              "1.7613"
            ]
          },
          "execution_count": 23,
          "metadata": {},
          "output_type": "execute_result"
        }
      ],
      "source": [
        "alpha = 0.05\n",
        "st.t.isf(alpha, 15 - 1).round(4)"
      ]
    },
    {
      "cell_type": "markdown",
      "metadata": {
        "id": "JInfKMCQ10dZ"
      },
      "source": [
        "Bước 5: Đưa ra quyết định về giả thuyết vô hiệu. Rút ra kết luận chung:\n",
        "- Bác bỏ giả thuyết $H_0$ (vì trị kiểm định thuộc miền bác bỏ)\n",
        "- Vậy sức mua của khách hàng hiện nay thực sự giảm sút"
      ]
    },
    {
      "cell_type": "markdown",
      "metadata": {
        "id": "Zjnm4RPI10da"
      },
      "source": [
        "### Bài 3\n",
        "\n",
        "Một máy sản suất tự động, lúc đầu tỷ lệ sản phẩm loại A là 20%. Sau khi áp dụng một phương pháp cải tiến sản xuất mới, người ta lấy 40 mẫu, mỗi mẫu gồm 10 sản phẩm đề kiểm tra. Kết quả kiểm tra cho ở bảng sau:\n",
        "\n",
        "| **Số sản phẩm loại A** |  1   |  2   |  3   |  4   |  5   |  6   |  7   |  8   |  9   |  10  |\n",
        "| ---------------------- | :--: | :--: | :--: | :--: | :--: | :--: | :--: | :--: | :--: | :--: |\n",
        "| **Số mẫu**             |  2   |  0   |  4   |  6   |  8   |  10  |  4   |  5   |  1   |  0   |\n",
        "\n",
        " Với mức ý nghĩa 5%. Hãy cho kết luận về phương pháp sản suất này.\n",
        "\n",
        " _Đáp án.Phương pháp cải tiến sản xuất mới thay đổi tỉ lệ sản phẩm loại A_"
      ]
    },
    {
      "cell_type": "markdown",
      "metadata": {
        "id": "5gQtv9hj10db"
      },
      "source": [
        "Tóm tắt:\n",
        "- $p = 20$\n",
        "- $n = 400$\n",
        "- $\\hat{p} = \\dfrac{2 + 12 + 24 + 40 + 60 + 28 + 40 + 9}{400} = 0.5375$\n",
        "- $\\alpha = 0.05$"
      ]
    },
    {
      "cell_type": "markdown",
      "metadata": {
        "id": "u8sX3ksU10db"
      },
      "source": [
        "Bước 1: Xây dựng giả thuyết kiểm định\n",
        "$$H_0 : p = 0.2$$\n",
        "$$H_a : p \\ne 0.2$$\n",
        "\n",
        "Kiểm tra điều kiện thực hiện kiểm định:\n",
        "- $n*p_0 \\ge 5$ và $n * (1 - p_0) \\ge 5$ thỏa"
      ]
    },
    {
      "cell_type": "markdown",
      "metadata": {
        "id": "FsAsiBKJ10db"
      },
      "source": [
        "Bước 2: Mức ý nghĩa $\\alpha = 0.05$"
      ]
    },
    {
      "cell_type": "markdown",
      "metadata": {
        "id": "qgaTrzYY10dc"
      },
      "source": [
        "Bước 3: Tính trị kiểm định\n",
        "$$z_0 = \\frac{\\hat{p} - p_0}{\\sqrt{\\frac{p_0*(1 - p_0)}{n}}} \\approx 16.875$$"
      ]
    },
    {
      "cell_type": "code",
      "execution_count": null,
      "metadata": {
        "id": "wIv_rK0n10dc",
        "outputId": "dbe0558f-57e8-46be-cb49-9575d1c3c396"
      },
      "outputs": [
        {
          "data": {
            "text/plain": [
              "16.874999999999996"
            ]
          },
          "execution_count": 17,
          "metadata": {},
          "output_type": "execute_result"
        }
      ],
      "source": [
        "(0.5375 - 0.2) / ((0.2 * 0.8) / 400)**0.5"
      ]
    },
    {
      "cell_type": "markdown",
      "metadata": {
        "id": "bDsmrp8Q10dd"
      },
      "source": [
        "Bước 4: Xác định `miền bác bỏ`\n",
        "\n",
        "$$\\{ z : |z| > z_{\\alpha / 2} \\} $$\n",
        "\n",
        "$$\\{ z : |z| > 1.96 \\} $$"
      ]
    },
    {
      "cell_type": "code",
      "execution_count": null,
      "metadata": {
        "id": "_3r5AOHu10de",
        "outputId": "02e63ec7-955e-4e4d-89ea-6c00a4b8b777"
      },
      "outputs": [
        {
          "data": {
            "text/plain": [
              "1.9599639845400545"
            ]
          },
          "execution_count": 20,
          "metadata": {},
          "output_type": "execute_result"
        }
      ],
      "source": [
        "alpha = 0.05\n",
        "st.norm.isf(alpha / 2)"
      ]
    },
    {
      "cell_type": "markdown",
      "metadata": {
        "id": "kCWT6p1C10df"
      },
      "source": [
        "Bước 5: Đưa ra quyết định về giả thuyết vô hiệu. Rút ra kết luận chung:\n",
        "- Bác bỏ giả thuyết $H_0$ (vì trị kiểm định thuộc miền bác bỏ)\n",
        "- Phương pháp cải tiến sản phảm mới thay đổi tỉ lệ sản phẩm loại A"
      ]
    },
    {
      "cell_type": "markdown",
      "metadata": {
        "id": "8z7o-cz210df"
      },
      "source": [
        "### Bài 4\n",
        "\n",
        "Tỷ lệ phế phẩm của một nhà máy trước đây là 5%. Năm nay nhà máy áp dụng một biện pháp kỹ thuật mới. Để nghiên cứu tác dụng của biện pháp kỹ thuật mới, người ta lấy một mẫu gồm 800 sản phẩm để kiểm tra và thấy có 24 phế phẩm.\n",
        "\n",
        "a. Với α = 0.01. Hãy cho kết luận về biện pháp kỹ thuật mới này?\n",
        "\n",
        "b. Nếu nhà máy báo cáo tỷ lệ phế phẩm sau khi áp dụng biện pháp kỹ thuật mới là\n",
        "2% thì có chấp nhận được không? (α = 0.01).\n",
        "\n",
        "_Đáp án. (a) Biện pháp kĩ thuật mới làm thay đổi tỉ lệ phế phẩm (b) Nhà máy báo cáo tỷ lệ phế phẩm là chấp nhận được._"
      ]
    },
    {
      "cell_type": "markdown",
      "metadata": {
        "id": "vdSPhvln10dg"
      },
      "source": [
        "Tóm tắt:\n",
        "- $p = 0.05$\n",
        "- $n = 800$\n",
        "- $\\hat{p} = 24/800 = 0.03$"
      ]
    },
    {
      "cell_type": "markdown",
      "metadata": {
        "id": "VYYvxWaH10dg"
      },
      "source": [
        "a)\n",
        "\n",
        "**Bước 1**: Xây dựng giả thuyết\n",
        "$$ H_0 : p = 0.05 $$\n",
        "$$ H_1 : p \\ne 0.05 $$\n",
        "\n",
        "Kiểm tra điều kiện thực hiện kiểm định:\n",
        "- $np_0 \\ge 5$ (thỏa)\n",
        "- $n(1-p_0) \\ge 5$ (thỏa)\n",
        "\n",
        "**Bước 2**: Mức ý nghĩa $\\alpha = 0.01$\n",
        "\n",
        "**Bước 3**: Tính trị kiểm định\n",
        "$$ z_0 = \\frac{\\hat{p} - p_0}{\\sqrt{\\frac{p_0*(1 - p_0)}{n}}} \\approx -2.5955$$\n",
        "\n",
        "**Bước 4**: Xác định `miền bác bỏ`\n",
        "$$ \\{z : |z| > z_{\\alpha / 2}\\} $$\n",
        "$$ \\{z : |z| > 2.576 \\} $$\n",
        "\n",
        "**Bước 5**: Đưa ra quyết định về giả thuyết vô hiệu. Rút ra kết luận chung:\n",
        "- Bác bỏ giả thuyết $H_0$ (vì trị kiểm định thuộc miền bác bỏ)\n",
        "- Biện pháp kỹ thuật mới làm thay đổi tỉ lệ phế phẩm"
      ]
    },
    {
      "cell_type": "markdown",
      "metadata": {
        "id": "HLiOohsg10di"
      },
      "source": [
        "b)\n",
        "\n",
        "**Bước 1**: Xây dựng giả thuyết\n",
        "$$ H_0 : p = 0.02 $$\n",
        "$$ H_1 : p \\ne 0.02 $$\n",
        "\n",
        "**Bước 2**: Mức ý nghĩa $\\alpha = 0.01$\n",
        "\n",
        "**Bước 3**: Tính trị kiểm định\n",
        "$$ z_0 = \\frac{\\hat{p} - p_0}{\\sqrt{\\frac{p_0*(1 - p_0)}{n}}} \\approx 1.297 $$\n",
        "\n",
        "**Bước 4**: Xác định `miền bác bỏ`\n",
        "$$ \\{z : |z| > z_{\\alpha / 2}\\} $$\n",
        "$$ \\{z : |z| > 2.576 \\} $$\n",
        "\n",
        "**Bước 5**: Đưa ra quyết định về giả thuyết vô hiệu. Rút ra kết luận chung:\n",
        "- Không bác bỏ giả thuyết $H_0$ (vì trị kiểm định không nằm trong miền bác bỏ)\n",
        "- Nhà máy báo cáo tỷ lệ phế phẩm là chấp nhận được"
      ]
    },
    {
      "cell_type": "markdown",
      "metadata": {
        "id": "mEwtMJow10dj"
      },
      "source": [
        "## Kiểm định đặc trưng tỉ lệ (p)"
      ]
    },
    {
      "cell_type": "markdown",
      "metadata": {
        "id": "tGscuYst10dj"
      },
      "source": [
        "### Bài 5\n",
        "\n",
        "Dataset 18 (__M&M__) chứa thông tin trọng lượng và màu sắc của mẫu các viên kẹo của hãng M&M.\n",
        "\n",
        "Sử dụng mẫu trên bạn hãy kiểm tra phát biểu sau: __\"20% kẹo M&M có màu đỏ\"__ với mức ý nghĩa là 5%\n",
        "\n",
        "*Hướng dẫn: tính tỷ lệ các viên kẹo có màu đỏ từ dữ liệu, sử dụng kết quả để kiểm định phát biểu trên*"
      ]
    },
    {
      "cell_type": "code",
      "execution_count": null,
      "metadata": {
        "id": "BZ-h5_Y810dk",
        "outputId": "5e2c6de4-9a0b-4b2c-e605-e7d6658f1c99"
      },
      "outputs": [
        {
          "data": {
            "text/html": [
              "<div>\n",
              "<style scoped>\n",
              "    .dataframe tbody tr th:only-of-type {\n",
              "        vertical-align: middle;\n",
              "    }\n",
              "\n",
              "    .dataframe tbody tr th {\n",
              "        vertical-align: top;\n",
              "    }\n",
              "\n",
              "    .dataframe thead th {\n",
              "        text-align: right;\n",
              "    }\n",
              "</style>\n",
              "<table border=\"1\" class=\"dataframe\">\n",
              "  <thead>\n",
              "    <tr style=\"text-align: right;\">\n",
              "      <th></th>\n",
              "      <th>Red</th>\n",
              "      <th>Orange</th>\n",
              "      <th>Yellow</th>\n",
              "      <th>Brown</th>\n",
              "      <th>Blue</th>\n",
              "      <th>Green</th>\n",
              "    </tr>\n",
              "  </thead>\n",
              "  <tbody>\n",
              "    <tr>\n",
              "      <th>0</th>\n",
              "      <td>0.751</td>\n",
              "      <td>0.735</td>\n",
              "      <td>0.883</td>\n",
              "      <td>0.696</td>\n",
              "      <td>0.881</td>\n",
              "      <td>0.925</td>\n",
              "    </tr>\n",
              "    <tr>\n",
              "      <th>1</th>\n",
              "      <td>0.841</td>\n",
              "      <td>0.895</td>\n",
              "      <td>0.769</td>\n",
              "      <td>0.876</td>\n",
              "      <td>0.863</td>\n",
              "      <td>0.914</td>\n",
              "    </tr>\n",
              "    <tr>\n",
              "      <th>2</th>\n",
              "      <td>0.856</td>\n",
              "      <td>0.865</td>\n",
              "      <td>0.859</td>\n",
              "      <td>0.855</td>\n",
              "      <td>0.775</td>\n",
              "      <td>0.881</td>\n",
              "    </tr>\n",
              "    <tr>\n",
              "      <th>3</th>\n",
              "      <td>0.799</td>\n",
              "      <td>0.864</td>\n",
              "      <td>0.784</td>\n",
              "      <td>0.806</td>\n",
              "      <td>0.854</td>\n",
              "      <td>0.865</td>\n",
              "    </tr>\n",
              "    <tr>\n",
              "      <th>4</th>\n",
              "      <td>0.966</td>\n",
              "      <td>0.852</td>\n",
              "      <td>0.824</td>\n",
              "      <td>0.840</td>\n",
              "      <td>0.810</td>\n",
              "      <td>0.865</td>\n",
              "    </tr>\n",
              "  </tbody>\n",
              "</table>\n",
              "</div>"
            ],
            "text/plain": [
              "     Red  Orange  Yellow  Brown   Blue  Green\n",
              "0  0.751   0.735   0.883  0.696  0.881  0.925\n",
              "1  0.841   0.895   0.769  0.876  0.863  0.914\n",
              "2  0.856   0.865   0.859  0.855  0.775  0.881\n",
              "3  0.799   0.864   0.784  0.806  0.854  0.865\n",
              "4  0.966   0.852   0.824  0.840  0.810  0.865"
            ]
          },
          "execution_count": 13,
          "metadata": {},
          "output_type": "execute_result"
        }
      ],
      "source": [
        "import pandas as pd\n",
        "\n",
        "df = pd.read_excel('18_M_M.xls')\n",
        "df.head()"
      ]
    },
    {
      "cell_type": "code",
      "execution_count": null,
      "metadata": {
        "id": "Fp2R3lSH10dl",
        "outputId": "30db7f93-ca8d-4a62-865f-8bc91e7a3578"
      },
      "outputs": [
        {
          "data": {
            "text/plain": [
              "(85.649, 0.13106983152167567)"
            ]
          },
          "execution_count": 18,
          "metadata": {},
          "output_type": "execute_result"
        }
      ],
      "source": [
        "total_p = sum(df.sum())\n",
        "p_hat = df.sum()['Red'] / total_p\n",
        "total_p, p_hat"
      ]
    },
    {
      "cell_type": "code",
      "execution_count": null,
      "metadata": {
        "id": "zZ-S5p1t10dm",
        "outputId": "a9603612-aead-425e-fae0-beb150b52d2e"
      },
      "outputs": [
        {
          "data": {
            "text/plain": [
              "(-0.8954291548405532, 1.9599639845400545)"
            ]
          },
          "execution_count": 20,
          "metadata": {},
          "output_type": "execute_result"
        }
      ],
      "source": [
        "import numpy as np\n",
        "\n",
        "n = len(df)\n",
        "p = 0.2\n",
        "\n",
        "z = (p_hat - p) / np.sqrt(p * (1 - p) / n)\n",
        "\n",
        "alpha = 0.05\n",
        "z_0 = st.norm.isf(alpha / 2)\n",
        "\n",
        "z, z_0"
      ]
    },
    {
      "cell_type": "markdown",
      "metadata": {
        "id": "78oVeeAn10d6"
      },
      "source": [
        "**Trả lời**: Phát biểu trên thỏa mãn vì z không nằm trong miền bác bỏ"
      ]
    },
    {
      "cell_type": "markdown",
      "metadata": {
        "id": "kylmrEnz10d7"
      },
      "source": [
        "### Bài 6\n",
        "\n",
        "Dataset 3 (__FRESH15__) chứa thông tin khảo sát những thay đổi về trọng lượng (weight - WT) và chỉ số khối của cơ thể (BMI) của sinh viên năm nhất tại một trường Đại Học. Thời điểm khảo sát là bắt đầu học kỳ (tháng 9 - SEP) và kết thúc học kỳ (tháng 4 - APR), các sinh viên được chọn ngẫu nhiên trong trường.\n",
        "\n",
        "Sử dụng mẫu trên, hãy kiểm tra phát biểu:__\"50% số sinh viên trong trường là nam\"__ với mức ý nghĩa 50%\n",
        "\n",
        "Các thuộc tính trong bộ dữ liệu:\n",
        "- SEX: Giới tính\n",
        "- WTSEP: trọng lượng đo vào tháng 9 (mới nhập học)\n",
        "- WTAPR: trọng lượng đo vào tháng 4 (kết thúc năm học)\n",
        "- BMISP: BMI tháng 9\n",
        "- BMIAP: BMI tháng 4"
      ]
    },
    {
      "cell_type": "code",
      "execution_count": null,
      "metadata": {
        "id": "OxScOBq110d8",
        "outputId": "2bae0daf-7d4b-4442-c259-030c11b1725f"
      },
      "outputs": [
        {
          "data": {
            "text/html": [
              "<div>\n",
              "<style scoped>\n",
              "    .dataframe tbody tr th:only-of-type {\n",
              "        vertical-align: middle;\n",
              "    }\n",
              "\n",
              "    .dataframe tbody tr th {\n",
              "        vertical-align: top;\n",
              "    }\n",
              "\n",
              "    .dataframe thead th {\n",
              "        text-align: right;\n",
              "    }\n",
              "</style>\n",
              "<table border=\"1\" class=\"dataframe\">\n",
              "  <thead>\n",
              "    <tr style=\"text-align: right;\">\n",
              "      <th></th>\n",
              "      <th>SEX</th>\n",
              "      <th>WTSEP</th>\n",
              "      <th>WTAPR</th>\n",
              "      <th>BMISP</th>\n",
              "      <th>BMIAP</th>\n",
              "    </tr>\n",
              "  </thead>\n",
              "  <tbody>\n",
              "    <tr>\n",
              "      <th>0</th>\n",
              "      <td>M</td>\n",
              "      <td>72</td>\n",
              "      <td>59</td>\n",
              "      <td>22.02</td>\n",
              "      <td>18.14</td>\n",
              "    </tr>\n",
              "    <tr>\n",
              "      <th>1</th>\n",
              "      <td>M</td>\n",
              "      <td>97</td>\n",
              "      <td>86</td>\n",
              "      <td>19.70</td>\n",
              "      <td>17.44</td>\n",
              "    </tr>\n",
              "    <tr>\n",
              "      <th>2</th>\n",
              "      <td>M</td>\n",
              "      <td>74</td>\n",
              "      <td>69</td>\n",
              "      <td>24.09</td>\n",
              "      <td>22.43</td>\n",
              "    </tr>\n",
              "    <tr>\n",
              "      <th>3</th>\n",
              "      <td>M</td>\n",
              "      <td>93</td>\n",
              "      <td>88</td>\n",
              "      <td>26.97</td>\n",
              "      <td>25.57</td>\n",
              "    </tr>\n",
              "    <tr>\n",
              "      <th>4</th>\n",
              "      <td>F</td>\n",
              "      <td>68</td>\n",
              "      <td>64</td>\n",
              "      <td>21.51</td>\n",
              "      <td>20.10</td>\n",
              "    </tr>\n",
              "  </tbody>\n",
              "</table>\n",
              "</div>"
            ],
            "text/plain": [
              "  SEX  WTSEP  WTAPR  BMISP  BMIAP\n",
              "0   M     72     59  22.02  18.14\n",
              "1   M     97     86  19.70  17.44\n",
              "2   M     74     69  24.09  22.43\n",
              "3   M     93     88  26.97  25.57\n",
              "4   F     68     64  21.51  20.10"
            ]
          },
          "execution_count": 21,
          "metadata": {},
          "output_type": "execute_result"
        }
      ],
      "source": [
        "df = pd.read_excel('03_FRESH15.xls')\n",
        "df.head()"
      ]
    },
    {
      "cell_type": "code",
      "execution_count": null,
      "metadata": {
        "id": "nipc6D2x10d-",
        "outputId": "5edd1d20-5404-4f2f-ce1e-8a501ebe2a66"
      },
      "outputs": [
        {
          "data": {
            "text/plain": [
              "(-0.36650833306891584, 0.6744897501960817)"
            ]
          },
          "execution_count": 25,
          "metadata": {},
          "output_type": "execute_result"
        }
      ],
      "source": [
        "n = len(df)\n",
        "p_hat = df['SEX'].value_counts()['M'] / n\n",
        "p = 0.5\n",
        "alpha = 0.5\n",
        "\n",
        "z = (p_hat - p) / np.sqrt(p * (1 - p) / n)\n",
        "z_0 = st.norm.isf(alpha / 2)\n",
        "\n",
        "z, z_0"
      ]
    },
    {
      "cell_type": "markdown",
      "metadata": {
        "id": "z8NFdALp10eA"
      },
      "source": [
        "**Trả lời**: Phát biểu trên thỏa mãn vì z không nằm trong miền bác bỏ"
      ]
    },
    {
      "cell_type": "markdown",
      "metadata": {
        "id": "Uaylq6Sp10eB"
      },
      "source": [
        "## Kiểm định đặc trưng kỳ vọng ($\\mu$) biết ($\\sigma$)"
      ]
    },
    {
      "cell_type": "markdown",
      "metadata": {
        "id": "Y7Kmok4E10eC"
      },
      "source": [
        "### Bài 7\n",
        "\n",
        "Dataset 13 __(VOLTAGE)__ liệt kê các mức điện áp được đo tại các hộ gia đình bởi các máy đo khác nhau: tại nhà (HOME), tại máy phát độc lập (Generator), tại trạm phát (UPS).\n",
        "\n",
        "Công ty cung cấp điện cho vùng này cam kết rằng: __\"Mục tiêu cung cấp điện cho mỗi hộ gia đình là 120V\"__ . Biết rằng độ lệch chuẩn của tất cả các mức điện áp đo được là 0.24V.\n",
        "\n",
        "Với mức ý nghĩa 1%. Bạn hãy kiểm tra xem công ty có làm đúng cam kết hay không?"
      ]
    },
    {
      "cell_type": "markdown",
      "metadata": {
        "id": "GeDKbgiP10eD"
      },
      "source": [
        "**Bước 1**: Xây dựng giả thuyết\n",
        "$$ H_0: \\mu = 120 $$\n",
        "$$ H_1: \\mu \\ne 120 $$\n",
        "\n",
        "**Bước 2**: Mức ý nghĩa $\\alpha = 0.01$\n",
        "\n",
        "**Bước 3**: Tính trị kiểm định\n",
        "$$z_0 = \\dfrac{\\bar{x} - \\mu_0}{\\dfrac{\\sigma}{\\sqrt{n}}}$$\n",
        "\n",
        "**Bước 4**: Xác định `miền bác bỏ`\n",
        "$$ \\{ z: |z| > z_{\\alpha / 2} \\} $$\n",
        "\n",
        "**Bước 5**: Đưa ra quyết định về giả thuyết vô hiệu. Kết luận chung"
      ]
    },
    {
      "cell_type": "code",
      "execution_count": null,
      "metadata": {
        "id": "Fl1sAqQ310eD",
        "outputId": "d50f3fc4-c039-4b41-9574-89ebd5e26c9c"
      },
      "outputs": [
        {
          "data": {
            "text/html": [
              "<div>\n",
              "<style scoped>\n",
              "    .dataframe tbody tr th:only-of-type {\n",
              "        vertical-align: middle;\n",
              "    }\n",
              "\n",
              "    .dataframe tbody tr th {\n",
              "        vertical-align: top;\n",
              "    }\n",
              "\n",
              "    .dataframe thead th {\n",
              "        text-align: right;\n",
              "    }\n",
              "</style>\n",
              "<table border=\"1\" class=\"dataframe\">\n",
              "  <thead>\n",
              "    <tr style=\"text-align: right;\">\n",
              "      <th></th>\n",
              "      <th>Day</th>\n",
              "      <th>Home</th>\n",
              "      <th>Generator</th>\n",
              "      <th>UPS</th>\n",
              "    </tr>\n",
              "  </thead>\n",
              "  <tbody>\n",
              "    <tr>\n",
              "      <th>0</th>\n",
              "      <td>1</td>\n",
              "      <td>123.8</td>\n",
              "      <td>124.8</td>\n",
              "      <td>123.1</td>\n",
              "    </tr>\n",
              "    <tr>\n",
              "      <th>1</th>\n",
              "      <td>2</td>\n",
              "      <td>123.9</td>\n",
              "      <td>124.3</td>\n",
              "      <td>123.1</td>\n",
              "    </tr>\n",
              "    <tr>\n",
              "      <th>2</th>\n",
              "      <td>3</td>\n",
              "      <td>123.9</td>\n",
              "      <td>125.2</td>\n",
              "      <td>123.6</td>\n",
              "    </tr>\n",
              "    <tr>\n",
              "      <th>3</th>\n",
              "      <td>4</td>\n",
              "      <td>123.3</td>\n",
              "      <td>124.5</td>\n",
              "      <td>123.6</td>\n",
              "    </tr>\n",
              "    <tr>\n",
              "      <th>4</th>\n",
              "      <td>5</td>\n",
              "      <td>123.4</td>\n",
              "      <td>125.1</td>\n",
              "      <td>123.6</td>\n",
              "    </tr>\n",
              "  </tbody>\n",
              "</table>\n",
              "</div>"
            ],
            "text/plain": [
              "   Day   Home  Generator    UPS\n",
              "0    1  123.8      124.8  123.1\n",
              "1    2  123.9      124.3  123.1\n",
              "2    3  123.9      125.2  123.6\n",
              "3    4  123.3      124.5  123.6\n",
              "4    5  123.4      125.1  123.6"
            ]
          },
          "execution_count": 47,
          "metadata": {},
          "output_type": "execute_result"
        }
      ],
      "source": [
        "df = pd.read_excel('13_VOLTAGE.xls')\n",
        "df.head()"
      ]
    },
    {
      "cell_type": "code",
      "execution_count": null,
      "metadata": {
        "id": "ZeorfyCt10eE",
        "outputId": "1a72ca7c-22ac-4e28-fde6-c1da382009c0"
      },
      "outputs": [
        {
          "data": {
            "text/plain": [
              "(2.575829303548901, 96.51534941972227)"
            ]
          },
          "execution_count": 48,
          "metadata": {},
          "output_type": "execute_result"
        }
      ],
      "source": [
        "n = len(df)\n",
        "mu_0 = 120\n",
        "sigma = 0.24\n",
        "x_bar = df['Home'].mean()\n",
        "alpha = 0.01\n",
        "\n",
        "z_0 = (x_bar - mu_0) / (sigma / np.sqrt(n))\n",
        "z = st.norm.isf(alpha / 2)\n",
        "\n",
        "z, z_0"
      ]
    },
    {
      "cell_type": "markdown",
      "metadata": {
        "id": "5Uk5nDvw10eF"
      },
      "source": [
        "**Trả lời**: Công ty không làm đúng cam kết cung cấp điện áp 120V"
      ]
    },
    {
      "cell_type": "markdown",
      "metadata": {
        "id": "Nv9rBFRu10eF"
      },
      "source": [
        "## Kiểm định đặc trưng kỳ vọng ($\\mu$) không biết ($\\sigma$)"
      ]
    },
    {
      "cell_type": "markdown",
      "metadata": {
        "id": "2MfSmrKF10eG"
      },
      "source": [
        "### Bài 8\n",
        "\n",
        "Dataset 19(__SCREWS__) chứa thông tin khảo sát chiều dài một số đinh ốc được cung cấp bởi công ty Crown Bolt (đơn vị inches)\n",
        "\n",
        "Trên bao bì của các đinh ốc do công ty sản xuất có ghi chiều dài của các đinh ốc là 3/4 inches. Sử dụng mẫu trên bạn hãy cho biết chiều dài của đinh ốc lấy từ mẫu thu nhận được từ dữ liệu trên có nhất quán với chiều dài ghi trên bao bì hay không? Kiểm định với mức ý nghĩa 5%"
      ]
    },
    {
      "cell_type": "markdown",
      "metadata": {
        "id": "k7-5zSxp10eH"
      },
      "source": [
        "**Bước 1**: Xây dựng giả thuyết\n",
        "$$ H_0: \\mu = 0.75 $$\n",
        "$$ H_1: \\mu \\ne 0.75 $$\n",
        "\n",
        "**Bước 2**: Mức ý nghĩa $\\alpha = 0.05$\n",
        "\n",
        "**Bước 3**: Tính trị kiểm định\n",
        "$$t_0 = \\dfrac{\\bar{x} - \\mu_0}{\\dfrac{s}{\\sqrt{n}}}$$\n",
        "\n",
        "**Bước 4**: Xác định `miền bác bỏ`\n",
        "$$ \\{ t: |t| > t^{\\alpha/2}_{n-1} \\} $$\n",
        "\n",
        "**Bước 5**: Đưa ra quyết định về giả thuyết vô hiệu. Kết luận chung"
      ]
    },
    {
      "cell_type": "code",
      "execution_count": null,
      "metadata": {
        "id": "dBpJ8oW-10eJ",
        "outputId": "c1024f1f-d0b2-4ab2-9586-2299bc485c85"
      },
      "outputs": [
        {
          "data": {
            "text/html": [
              "<div>\n",
              "<style scoped>\n",
              "    .dataframe tbody tr th:only-of-type {\n",
              "        vertical-align: middle;\n",
              "    }\n",
              "\n",
              "    .dataframe tbody tr th {\n",
              "        vertical-align: top;\n",
              "    }\n",
              "\n",
              "    .dataframe thead th {\n",
              "        text-align: right;\n",
              "    }\n",
              "</style>\n",
              "<table border=\"1\" class=\"dataframe\">\n",
              "  <thead>\n",
              "    <tr style=\"text-align: right;\">\n",
              "      <th></th>\n",
              "      <th>0</th>\n",
              "    </tr>\n",
              "  </thead>\n",
              "  <tbody>\n",
              "    <tr>\n",
              "      <th>0</th>\n",
              "      <td>0.757</td>\n",
              "    </tr>\n",
              "    <tr>\n",
              "      <th>1</th>\n",
              "      <td>0.723</td>\n",
              "    </tr>\n",
              "    <tr>\n",
              "      <th>2</th>\n",
              "      <td>0.754</td>\n",
              "    </tr>\n",
              "    <tr>\n",
              "      <th>3</th>\n",
              "      <td>0.737</td>\n",
              "    </tr>\n",
              "    <tr>\n",
              "      <th>4</th>\n",
              "      <td>0.757</td>\n",
              "    </tr>\n",
              "  </tbody>\n",
              "</table>\n",
              "</div>"
            ],
            "text/plain": [
              "       0\n",
              "0  0.757\n",
              "1  0.723\n",
              "2  0.754\n",
              "3  0.737\n",
              "4  0.757"
            ]
          },
          "execution_count": 54,
          "metadata": {},
          "output_type": "execute_result"
        }
      ],
      "source": [
        "df = pd.read_excel('19_SCREWS.xls', header=None)\n",
        "df.head()"
      ]
    },
    {
      "cell_type": "code",
      "execution_count": null,
      "metadata": {
        "id": "E4p7h-Kx10eJ",
        "outputId": "e19042b7-e71e-4c1b-8095-35fb594eef1e"
      },
      "outputs": [
        {
          "data": {
            "text/plain": [
              "(-1.8249114276291665, 2.0095752344892093)"
            ]
          },
          "execution_count": 55,
          "metadata": {},
          "output_type": "execute_result"
        }
      ],
      "source": [
        "alpha = 0.05\n",
        "mu_0 = 0.75\n",
        "x_bar = df[0].mean()\n",
        "s = df[0].std()\n",
        "n = len(df)\n",
        "\n",
        "t_0 = (x_bar - mu_0) / (s / np.sqrt(n))\n",
        "t = st.t.isf(alpha / 2, df=n-1)\n",
        "\n",
        "t_0, t"
      ]
    },
    {
      "cell_type": "markdown",
      "metadata": {
        "id": "LuUfKsyl10eK"
      },
      "source": [
        "**Trả lời**: Thông tin trên hộp ghi đúng"
      ]
    },
    {
      "cell_type": "markdown",
      "metadata": {
        "id": "7_fSR4uE10eL"
      },
      "source": [
        "### Bài 9\n",
        "\n",
        "Dataset 2 __(BODYTEMP)__ chứa thông tin khảo sát nhiệt độ cơ thể từ một nhóm người vào cùng một thời điểm lúc 12h trưa.\n",
        "\n",
        "Có một phát biểu nói rằng, nhiệt độ cơ thể người đo lúc 12h trưa trong quần thể này là 98,6°\n",
        "\n",
        "Dựa vào mẫu trên, bạn hãy cho biết phát biểu trên đúng hay sai ở mức ý nghĩa là 5%."
      ]
    },
    {
      "cell_type": "code",
      "execution_count": null,
      "metadata": {
        "id": "oDKVn8Bh10eM",
        "outputId": "62c3491f-7852-4e83-c329-3d07a7d0a1f2"
      },
      "outputs": [
        {
          "data": {
            "text/html": [
              "<div>\n",
              "<style scoped>\n",
              "    .dataframe tbody tr th:only-of-type {\n",
              "        vertical-align: middle;\n",
              "    }\n",
              "\n",
              "    .dataframe tbody tr th {\n",
              "        vertical-align: top;\n",
              "    }\n",
              "\n",
              "    .dataframe thead th {\n",
              "        text-align: right;\n",
              "    }\n",
              "</style>\n",
              "<table border=\"1\" class=\"dataframe\">\n",
              "  <thead>\n",
              "    <tr style=\"text-align: right;\">\n",
              "      <th></th>\n",
              "      <th>0</th>\n",
              "    </tr>\n",
              "  </thead>\n",
              "  <tbody>\n",
              "    <tr>\n",
              "      <th>0</th>\n",
              "      <td>98.6</td>\n",
              "    </tr>\n",
              "    <tr>\n",
              "      <th>1</th>\n",
              "      <td>98.6</td>\n",
              "    </tr>\n",
              "    <tr>\n",
              "      <th>2</th>\n",
              "      <td>98.0</td>\n",
              "    </tr>\n",
              "    <tr>\n",
              "      <th>3</th>\n",
              "      <td>98.0</td>\n",
              "    </tr>\n",
              "    <tr>\n",
              "      <th>4</th>\n",
              "      <td>99.0</td>\n",
              "    </tr>\n",
              "  </tbody>\n",
              "</table>\n",
              "</div>"
            ],
            "text/plain": [
              "      0\n",
              "0  98.6\n",
              "1  98.6\n",
              "2  98.0\n",
              "3  98.0\n",
              "4  99.0"
            ]
          },
          "execution_count": 59,
          "metadata": {},
          "output_type": "execute_result"
        }
      ],
      "source": [
        "df = pd.read_excel('02_BODYTEMP.xls', header=None)\n",
        "df.head()"
      ]
    },
    {
      "cell_type": "code",
      "execution_count": null,
      "metadata": {
        "id": "0axlrUn910eN",
        "outputId": "d7806292-6d7e-47da-8947-e9132f491940"
      },
      "outputs": [
        {
          "data": {
            "text/plain": [
              "(-6.611455226059064, 1.9828152737371547)"
            ]
          },
          "execution_count": 63,
          "metadata": {},
          "output_type": "execute_result"
        }
      ],
      "source": [
        "alpha = 0.05\n",
        "mu_0 = 98.6\n",
        "s = df[0].std()\n",
        "x_bar = df[0].mean()\n",
        "n = len(df)\n",
        "\n",
        "t_0 = (x_bar - mu_0) / (s / np.sqrt(n))\n",
        "t = st.t.isf(alpha / 2, df=n-1)\n",
        "\n",
        "t_0, t"
      ]
    },
    {
      "cell_type": "markdown",
      "metadata": {
        "id": "QHLxglm310eP"
      },
      "source": [
        "**Trả lời**: Lời phát biểu kia không đúng"
      ]
    },
    {
      "cell_type": "markdown",
      "metadata": {
        "id": "aPYoixYc10eQ"
      },
      "source": [
        "### Bài 10\n",
        "\n",
        "Tìm hiểu z_test, t_test trong python"
      ]
    },
    {
      "cell_type": "markdown",
      "metadata": {
        "id": "8bDjcaT_10eR"
      },
      "source": [
        "**Z-test** thường được sử dụng khi kích thước mẫu lớn (n > 30) hoặc khi phương sai của tổng thể được biết. Nó kiểm tra xem trung bình của một mẫu có khác biệt đáng kể so với trung bình của tổng thể hay không.\n",
        "\n",
        "**Công thức Z-test:**\n",
        "$$ Z = \\frac{\\bar{X} - \\mu}{\\sigma / \\sqrt{n}} $$\n",
        "- $(\\bar{X})$: Trung bình mẫu\n",
        "- $(\\mu)$: Trung bình tổng thể\n",
        "- $(\\sigma)$: Độ lệch chuẩn tổng thể\n",
        "- $(n)$: Kích thước mẫu"
      ]
    },
    {
      "cell_type": "markdown",
      "metadata": {
        "id": "ohgd1_mc10eS"
      },
      "source": [
        "**T-test** thường được sử dụng khi kích thước mẫu nhỏ (n ≤ 30) hoặc khi phương sai của tổng thể không được biết. T-test điều chỉnh cho sự không chắc chắn liên quan đến ước lượng phương sai.\n",
        "\n",
        "**Có ba loại t-test chính:**\n",
        "- **One-sample t-test**: So sánh trung bình của một mẫu với trung bình tổng thể.\n",
        "- **Independent two-sample t-test**: So sánh trung bình của hai mẫu độc lập.\n",
        "- **Paired t-test**: So sánh trung bình của hai mẫu liên kết (cùng một nhóm người được đo hai lần).\n",
        "\n",
        "**Công thức T-test:**\n",
        "$$ t = \\frac{\\bar{X} - \\mu}{s / \\sqrt{n}} $$\n",
        "- $(s)$: Độ lệch chuẩn mẫu"
      ]
    },
    {
      "cell_type": "markdown",
      "metadata": {
        "id": "E8GwMPr910eU"
      },
      "source": [
        "---"
      ]
    }
  ],
  "metadata": {
    "kernelspec": {
      "display_name": "Python 3 (ipykernel)",
      "language": "python",
      "name": "python3"
    },
    "language_info": {
      "codemirror_mode": {
        "name": "ipython",
        "version": 3
      },
      "file_extension": ".py",
      "mimetype": "text/x-python",
      "name": "python",
      "nbconvert_exporter": "python",
      "pygments_lexer": "ipython3",
      "version": "3.11.9"
    },
    "colab": {
      "provenance": []
    }
  },
  "nbformat": 4,
  "nbformat_minor": 0
}